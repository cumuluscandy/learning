{
 "cells": [
  {
   "cell_type": "markdown",
   "id": "bcff716c",
   "metadata": {},
   "source": [
    "## \n",
    "1. Store,train, test파일"
   ]
  },
  {
   "cell_type": "markdown",
   "id": "aa483aa7",
   "metadata": {},
   "source": [
    "# 라이브러리 불러오기"
   ]
  },
  {
   "cell_type": "code",
   "execution_count": 1,
   "id": "3cb87d26",
   "metadata": {},
   "outputs": [],
   "source": [
    "import numpy as np\n",
    "import pandas as pd\n",
    "import matplotlib.pyplot as plt\n",
    "%matplotlib inline\n",
    "from sklearn.model_selection import cross_val_score\n",
    "from sklearn.model_selection import train_test_split\n",
    "from sklearn.ensemble import RandomForestRegressor\n",
    "import seaborn as sb"
   ]
  },
  {
   "cell_type": "markdown",
   "id": "1549979c",
   "metadata": {},
   "source": [
    "# 데이터 읽기"
   ]
  },
  {
   "cell_type": "code",
   "execution_count": 2,
   "id": "8df6fa47",
   "metadata": {
    "scrolled": true
   },
   "outputs": [
    {
     "name": "stderr",
     "output_type": "stream",
     "text": [
      "C:\\Users\\user\\AppData\\Local\\Temp\\ipykernel_5544\\2167040423.py:1: DtypeWarning: Columns (7) have mixed types. Specify dtype option on import or set low_memory=False.\n",
      "  train = pd.read_csv(\"/users/user/module37/train.csv\")\n"
     ]
    }
   ],
   "source": [
    "train = pd.read_csv(\"/users/user/module37/train.csv\")\n",
    "store = pd.read_csv(\"/users/user/module37/store.csv\")\n",
    "test = pd.read_csv(\"/users/user/module37/test.csv\")"
   ]
  },
  {
   "cell_type": "markdown",
   "id": "c6e24a18",
   "metadata": {},
   "source": [
    "## train 가공 (크기,head,결측값(있을 시 0으로),info)"
   ]
  },
  {
   "cell_type": "code",
   "execution_count": 3,
   "id": "d89a6085",
   "metadata": {
    "scrolled": true
   },
   "outputs": [
    {
     "name": "stdout",
     "output_type": "stream",
     "text": [
      "(1017209, 9)\n",
      "   Store  DayOfWeek        Date  Sales  Customers  Open  Promo StateHoliday  \\\n",
      "0      1          5  2015-07-31   5263        555     1      1            0   \n",
      "1      2          5  2015-07-31   6064        625     1      1            0   \n",
      "2      3          5  2015-07-31   8314        821     1      1            0   \n",
      "3      4          5  2015-07-31  13995       1498     1      1            0   \n",
      "4      5          5  2015-07-31   4822        559     1      1            0   \n",
      "\n",
      "   SchoolHoliday  \n",
      "0              1  \n",
      "1              1  \n",
      "2              1  \n",
      "3              1  \n",
      "4              1  \n"
     ]
    }
   ],
   "source": [
    "print(train.shape)\n",
    "print(train.head())"
   ]
  },
  {
   "cell_type": "code",
   "execution_count": 4,
   "id": "1262a6b1",
   "metadata": {},
   "outputs": [
    {
     "data": {
      "text/plain": [
       "1017209"
      ]
     },
     "execution_count": 4,
     "metadata": {},
     "output_type": "execute_result"
    }
   ],
   "source": [
    "len(train)"
   ]
  },
  {
   "cell_type": "code",
   "execution_count": 5,
   "id": "d8507895",
   "metadata": {},
   "outputs": [],
   "source": [
    "train = train.iloc[:379436]   # 필요한 데이터 갯수가 379,436개여서 잘라 냈다."
   ]
  },
  {
   "cell_type": "code",
   "execution_count": 6,
   "id": "729d3339",
   "metadata": {},
   "outputs": [
    {
     "data": {
      "text/plain": [
       "379436"
      ]
     },
     "execution_count": 6,
     "metadata": {},
     "output_type": "execute_result"
    }
   ],
   "source": [
    "len(train)"
   ]
  },
  {
   "cell_type": "code",
   "execution_count": 7,
   "id": "4e242210",
   "metadata": {},
   "outputs": [
    {
     "name": "stdout",
     "output_type": "stream",
     "text": [
      "<bound method DataFrame.info of         Store  DayOfWeek        Date  Sales  Customers  Open  Promo  \\\n",
      "0           1          5  2015-07-31   5263        555     1      1   \n",
      "1           2          5  2015-07-31   6064        625     1      1   \n",
      "2           3          5  2015-07-31   8314        821     1      1   \n",
      "3           4          5  2015-07-31  13995       1498     1      1   \n",
      "4           5          5  2015-07-31   4822        559     1      1   \n",
      "...       ...        ...         ...    ...        ...   ...    ...   \n",
      "379431   1112          5  2014-08-01  10058        821     1      1   \n",
      "379432   1113          5  2014-08-01   7618        723     1      1   \n",
      "379433   1114          5  2014-08-01  22827       3748     1      1   \n",
      "379434   1115          5  2014-08-01   8580        514     1      1   \n",
      "379435      1          4  2014-07-31   5106        575     1      1   \n",
      "\n",
      "       StateHoliday  SchoolHoliday  \n",
      "0                 0              1  \n",
      "1                 0              1  \n",
      "2                 0              1  \n",
      "3                 0              1  \n",
      "4                 0              1  \n",
      "...             ...            ...  \n",
      "379431            0              1  \n",
      "379432            0              1  \n",
      "379433            0              1  \n",
      "379434            0              1  \n",
      "379435            0              0  \n",
      "\n",
      "[379436 rows x 9 columns]>\n"
     ]
    }
   ],
   "source": [
    "print(train.info)"
   ]
  },
  {
   "cell_type": "code",
   "execution_count": 8,
   "id": "e086fb3f",
   "metadata": {},
   "outputs": [
    {
     "name": "stdout",
     "output_type": "stream",
     "text": [
      "Store            0\n",
      "DayOfWeek        0\n",
      "Date             0\n",
      "Sales            0\n",
      "Customers        0\n",
      "Open             0\n",
      "Promo            0\n",
      "StateHoliday     0\n",
      "SchoolHoliday    0\n",
      "dtype: int64\n"
     ]
    }
   ],
   "source": [
    "print(train.isnull().sum())"
   ]
  },
  {
   "cell_type": "markdown",
   "id": "42176c17",
   "metadata": {},
   "source": [
    "## train과 동일하게 test와 store도 동일한 작업 해준다."
   ]
  },
  {
   "cell_type": "code",
   "execution_count": 9,
   "id": "f49dd7aa",
   "metadata": {},
   "outputs": [
    {
     "name": "stdout",
     "output_type": "stream",
     "text": [
      "   Id  Store  DayOfWeek        Date  Open  Promo StateHoliday  SchoolHoliday\n",
      "0   1      1          4  2015-09-17   1.0      1            0              0\n",
      "1   2      3          4  2015-09-17   1.0      1            0              0\n",
      "2   3      7          4  2015-09-17   1.0      1            0              0\n",
      "3   4      8          4  2015-09-17   1.0      1            0              0\n",
      "4   5      9          4  2015-09-17   1.0      1            0              0\n",
      "41088\n",
      "<bound method DataFrame.info of           Id  Store  DayOfWeek        Date  Open  Promo StateHoliday  \\\n",
      "0          1      1          4  2015-09-17   1.0      1            0   \n",
      "1          2      3          4  2015-09-17   1.0      1            0   \n",
      "2          3      7          4  2015-09-17   1.0      1            0   \n",
      "3          4      8          4  2015-09-17   1.0      1            0   \n",
      "4          5      9          4  2015-09-17   1.0      1            0   \n",
      "...      ...    ...        ...         ...   ...    ...          ...   \n",
      "41083  41084   1111          6  2015-08-01   1.0      0            0   \n",
      "41084  41085   1112          6  2015-08-01   1.0      0            0   \n",
      "41085  41086   1113          6  2015-08-01   1.0      0            0   \n",
      "41086  41087   1114          6  2015-08-01   1.0      0            0   \n",
      "41087  41088   1115          6  2015-08-01   1.0      0            0   \n",
      "\n",
      "       SchoolHoliday  \n",
      "0                  0  \n",
      "1                  0  \n",
      "2                  0  \n",
      "3                  0  \n",
      "4                  0  \n",
      "...              ...  \n",
      "41083              0  \n",
      "41084              0  \n",
      "41085              0  \n",
      "41086              0  \n",
      "41087              1  \n",
      "\n",
      "[41088 rows x 8 columns]>\n",
      "Id                0\n",
      "Store             0\n",
      "DayOfWeek         0\n",
      "Date              0\n",
      "Open             11\n",
      "Promo             0\n",
      "StateHoliday      0\n",
      "SchoolHoliday     0\n",
      "dtype: int64\n"
     ]
    }
   ],
   "source": [
    "print(test.head())\n",
    "print(len(test))\n",
    "print(test.info)\n",
    "print(test.isnull().sum())"
   ]
  },
  {
   "cell_type": "code",
   "execution_count": 10,
   "id": "7a59a660",
   "metadata": {},
   "outputs": [],
   "source": [
    "test=test.fillna(0)   #결측값을 0으로 대체 함"
   ]
  },
  {
   "cell_type": "code",
   "execution_count": 11,
   "id": "00b547fa",
   "metadata": {},
   "outputs": [
    {
     "name": "stdout",
     "output_type": "stream",
     "text": [
      "Id               0\n",
      "Store            0\n",
      "DayOfWeek        0\n",
      "Date             0\n",
      "Open             0\n",
      "Promo            0\n",
      "StateHoliday     0\n",
      "SchoolHoliday    0\n",
      "dtype: int64\n"
     ]
    }
   ],
   "source": [
    "print(test.isnull().sum())"
   ]
  },
  {
   "cell_type": "code",
   "execution_count": 12,
   "id": "dbf8b0e5",
   "metadata": {},
   "outputs": [
    {
     "name": "stdout",
     "output_type": "stream",
     "text": [
      "   Store StoreType Assortment  CompetitionDistance  CompetitionOpenSinceMonth  \\\n",
      "0      1         c          a               1270.0                        9.0   \n",
      "1      2         a          a                570.0                       11.0   \n",
      "2      3         a          a              14130.0                       12.0   \n",
      "3      4         c          c                620.0                        9.0   \n",
      "4      5         a          a              29910.0                        4.0   \n",
      "\n",
      "   CompetitionOpenSinceYear  Promo2  Promo2SinceWeek  Promo2SinceYear  \\\n",
      "0                    2008.0       0              NaN              NaN   \n",
      "1                    2007.0       1             13.0           2010.0   \n",
      "2                    2006.0       1             14.0           2011.0   \n",
      "3                    2009.0       0              NaN              NaN   \n",
      "4                    2015.0       0              NaN              NaN   \n",
      "\n",
      "     PromoInterval  \n",
      "0              NaN  \n",
      "1  Jan,Apr,Jul,Oct  \n",
      "2  Jan,Apr,Jul,Oct  \n",
      "3              NaN  \n",
      "4              NaN  \n",
      "1115\n",
      "<bound method DataFrame.info of       Store StoreType Assortment  CompetitionDistance  \\\n",
      "0         1         c          a               1270.0   \n",
      "1         2         a          a                570.0   \n",
      "2         3         a          a              14130.0   \n",
      "3         4         c          c                620.0   \n",
      "4         5         a          a              29910.0   \n",
      "...     ...       ...        ...                  ...   \n",
      "1110   1111         a          a               1900.0   \n",
      "1111   1112         c          c               1880.0   \n",
      "1112   1113         a          c               9260.0   \n",
      "1113   1114         a          c                870.0   \n",
      "1114   1115         d          c               5350.0   \n",
      "\n",
      "      CompetitionOpenSinceMonth  CompetitionOpenSinceYear  Promo2  \\\n",
      "0                           9.0                    2008.0       0   \n",
      "1                          11.0                    2007.0       1   \n",
      "2                          12.0                    2006.0       1   \n",
      "3                           9.0                    2009.0       0   \n",
      "4                           4.0                    2015.0       0   \n",
      "...                         ...                       ...     ...   \n",
      "1110                        6.0                    2014.0       1   \n",
      "1111                        4.0                    2006.0       0   \n",
      "1112                        NaN                       NaN       0   \n",
      "1113                        NaN                       NaN       0   \n",
      "1114                        NaN                       NaN       1   \n",
      "\n",
      "      Promo2SinceWeek  Promo2SinceYear     PromoInterval  \n",
      "0                 NaN              NaN               NaN  \n",
      "1                13.0           2010.0   Jan,Apr,Jul,Oct  \n",
      "2                14.0           2011.0   Jan,Apr,Jul,Oct  \n",
      "3                 NaN              NaN               NaN  \n",
      "4                 NaN              NaN               NaN  \n",
      "...               ...              ...               ...  \n",
      "1110             31.0           2013.0   Jan,Apr,Jul,Oct  \n",
      "1111              NaN              NaN               NaN  \n",
      "1112              NaN              NaN               NaN  \n",
      "1113              NaN              NaN               NaN  \n",
      "1114             22.0           2012.0  Mar,Jun,Sept,Dec  \n",
      "\n",
      "[1115 rows x 10 columns]>\n",
      "Store                          0\n",
      "StoreType                      0\n",
      "Assortment                     0\n",
      "CompetitionDistance            3\n",
      "CompetitionOpenSinceMonth    354\n",
      "CompetitionOpenSinceYear     354\n",
      "Promo2                         0\n",
      "Promo2SinceWeek              544\n",
      "Promo2SinceYear              544\n",
      "PromoInterval                544\n",
      "dtype: int64\n"
     ]
    }
   ],
   "source": [
    "print(store.head())\n",
    "print(len(store))\n",
    "print(store.info)\n",
    "print(store.isnull().sum())"
   ]
  },
  {
   "cell_type": "code",
   "execution_count": 13,
   "id": "a6830afd",
   "metadata": {
    "scrolled": true
   },
   "outputs": [
    {
     "name": "stdout",
     "output_type": "stream",
     "text": [
      "Store                        0\n",
      "StoreType                    0\n",
      "Assortment                   0\n",
      "CompetitionDistance          0\n",
      "CompetitionOpenSinceMonth    0\n",
      "CompetitionOpenSinceYear     0\n",
      "Promo2                       0\n",
      "Promo2SinceWeek              0\n",
      "Promo2SinceYear              0\n",
      "PromoInterval                0\n",
      "dtype: int64\n"
     ]
    }
   ],
   "source": [
    "store=store.fillna(0)   #결측값을 0으로 대체 함\n",
    "print(store.isnull().sum())"
   ]
  },
  {
   "cell_type": "code",
   "execution_count": 14,
   "id": "b3e3be95",
   "metadata": {
    "scrolled": true
   },
   "outputs": [
    {
     "data": {
      "text/plain": [
       "Store             1115\n",
       "DayOfWeek            7\n",
       "Date               366\n",
       "Sales            18510\n",
       "Customers         3662\n",
       "Open                 2\n",
       "Promo                2\n",
       "StateHoliday         5\n",
       "SchoolHoliday        2\n",
       "dtype: int64"
      ]
     },
     "execution_count": 14,
     "metadata": {},
     "output_type": "execute_result"
    }
   ],
   "source": [
    "train.nunique() #각 칼럼의 이름과 값 갯수 확인"
   ]
  },
  {
   "cell_type": "code",
   "execution_count": 15,
   "id": "77a55cf6",
   "metadata": {},
   "outputs": [],
   "source": [
    "# 아래의 두개는 그래프를 그린 것 인데 , 1번은 데이터싀 속성을 이해 못하고 그냥 때려박은 거 \n",
    "# 아래는 속성값"
   ]
  },
  {
   "cell_type": "code",
   "execution_count": 16,
   "id": "a0047703",
   "metadata": {
    "scrolled": false
   },
   "outputs": [
    {
     "data": {
      "text/plain": [
       "<AxesSubplot:xlabel='Customers', ylabel='Sales'>"
      ]
     },
     "execution_count": 16,
     "metadata": {},
     "output_type": "execute_result"
    },
    {
     "data": {
      "image/png": "[encoded data removed]",
      "text/plain": [
       "<Figure size 432x288 with 1 Axes>"
      ]
     },
     "metadata": {
      "needs_background": "light"
     },
     "output_type": "display_data"
    }
   ],
   "source": [
    "sb.lineplot(x=train['Customers'],y=train['Sales'], data='train')"
   ]
  },
  {
   "cell_type": "code",
   "execution_count": 17,
   "id": "d4693b53",
   "metadata": {
    "scrolled": true
   },
   "outputs": [
    {
     "data": {
      "image/png": "[encoded data removed]",
      "text/plain": [
       "<Figure size 432x288 with 1 Axes>"
      ]
     },
     "metadata": {
      "needs_background": "light"
     },
     "output_type": "display_data"
    }
   ],
   "source": [
    "for i in [\"0\", \"a\", \"b\", \"c\"]:\n",
    "    data = train[train['StateHoliday'] == i]\n",
    "    if (len(data) == 0):\n",
    "        continue\n",
    "    plt.scatter(data['Customers'], data['Sales'], label=i)\n",
    "plt.legend()\n",
    "plt.xlabel('Customers')\n",
    "plt.ylabel('Sales')\n",
    "plt.show()"
   ]
  },
  {
   "cell_type": "markdown",
   "id": "1ed64b94",
   "metadata": {},
   "source": [
    "### 4. 매장별 통계 데이터 확인해보기\n",
    "      4.1 spc = sales/customer 로 새로운 열 생성 >> train.csv df\n",
    "      4.2 Groupby 이용 store로 sales,customers, spc 평균값 만들어보기 : store별 평균값 data"
   ]
  },
  {
   "cell_type": "code",
   "execution_count": 18,
   "id": "72a8dcc8",
   "metadata": {
    "scrolled": true
   },
   "outputs": [],
   "source": [
    "#4.1\n",
    "train['spc']= train['Sales']/train['Customers']"
   ]
  },
  {
   "cell_type": "code",
   "execution_count": 19,
   "id": "21f33bac",
   "metadata": {},
   "outputs": [],
   "source": [
    "#4.2  1번째 방법 sales만 그룹화 시켜서, 새로운 행 "
   ]
  },
  {
   "cell_type": "code",
   "execution_count": 20,
   "id": "6bea1e54",
   "metadata": {
    "scrolled": true
   },
   "outputs": [
    {
     "data": {
      "text/html": [
       "<div>\n",
       "<style scoped>\n",
       "    .dataframe tbody tr th:only-of-type {\n",
       "        vertical-align: middle;\n",
       "    }\n",
       "\n",
       "    .dataframe tbody tr th {\n",
       "        vertical-align: top;\n",
       "    }\n",
       "\n",
       "    .dataframe thead th {\n",
       "        text-align: right;\n",
       "    }\n",
       "</style>\n",
       "<table border=\"1\" class=\"dataframe\">\n",
       "  <thead>\n",
       "    <tr style=\"text-align: right;\">\n",
       "      <th></th>\n",
       "      <th>Store</th>\n",
       "      <th>DayOfWeek</th>\n",
       "      <th>Date</th>\n",
       "      <th>Sales</th>\n",
       "      <th>Customers</th>\n",
       "      <th>Open</th>\n",
       "      <th>Promo</th>\n",
       "      <th>StateHoliday</th>\n",
       "      <th>SchoolHoliday</th>\n",
       "      <th>spc</th>\n",
       "    </tr>\n",
       "  </thead>\n",
       "  <tbody>\n",
       "    <tr>\n",
       "      <th>0</th>\n",
       "      <td>1</td>\n",
       "      <td>5</td>\n",
       "      <td>2015-07-31</td>\n",
       "      <td>5263</td>\n",
       "      <td>555</td>\n",
       "      <td>1</td>\n",
       "      <td>1</td>\n",
       "      <td>0</td>\n",
       "      <td>1</td>\n",
       "      <td>9.482883</td>\n",
       "    </tr>\n",
       "    <tr>\n",
       "      <th>1</th>\n",
       "      <td>2</td>\n",
       "      <td>5</td>\n",
       "      <td>2015-07-31</td>\n",
       "      <td>6064</td>\n",
       "      <td>625</td>\n",
       "      <td>1</td>\n",
       "      <td>1</td>\n",
       "      <td>0</td>\n",
       "      <td>1</td>\n",
       "      <td>9.702400</td>\n",
       "    </tr>\n",
       "    <tr>\n",
       "      <th>2</th>\n",
       "      <td>3</td>\n",
       "      <td>5</td>\n",
       "      <td>2015-07-31</td>\n",
       "      <td>8314</td>\n",
       "      <td>821</td>\n",
       "      <td>1</td>\n",
       "      <td>1</td>\n",
       "      <td>0</td>\n",
       "      <td>1</td>\n",
       "      <td>10.126675</td>\n",
       "    </tr>\n",
       "    <tr>\n",
       "      <th>3</th>\n",
       "      <td>4</td>\n",
       "      <td>5</td>\n",
       "      <td>2015-07-31</td>\n",
       "      <td>13995</td>\n",
       "      <td>1498</td>\n",
       "      <td>1</td>\n",
       "      <td>1</td>\n",
       "      <td>0</td>\n",
       "      <td>1</td>\n",
       "      <td>9.342457</td>\n",
       "    </tr>\n",
       "    <tr>\n",
       "      <th>4</th>\n",
       "      <td>5</td>\n",
       "      <td>5</td>\n",
       "      <td>2015-07-31</td>\n",
       "      <td>4822</td>\n",
       "      <td>559</td>\n",
       "      <td>1</td>\n",
       "      <td>1</td>\n",
       "      <td>0</td>\n",
       "      <td>1</td>\n",
       "      <td>8.626118</td>\n",
       "    </tr>\n",
       "    <tr>\n",
       "      <th>...</th>\n",
       "      <td>...</td>\n",
       "      <td>...</td>\n",
       "      <td>...</td>\n",
       "      <td>...</td>\n",
       "      <td>...</td>\n",
       "      <td>...</td>\n",
       "      <td>...</td>\n",
       "      <td>...</td>\n",
       "      <td>...</td>\n",
       "      <td>...</td>\n",
       "    </tr>\n",
       "    <tr>\n",
       "      <th>5570</th>\n",
       "      <td>1111</td>\n",
       "      <td>1</td>\n",
       "      <td>2015-07-27</td>\n",
       "      <td>7742</td>\n",
       "      <td>515</td>\n",
       "      <td>1</td>\n",
       "      <td>1</td>\n",
       "      <td>0</td>\n",
       "      <td>1</td>\n",
       "      <td>15.033010</td>\n",
       "    </tr>\n",
       "    <tr>\n",
       "      <th>5571</th>\n",
       "      <td>1112</td>\n",
       "      <td>1</td>\n",
       "      <td>2015-07-27</td>\n",
       "      <td>14383</td>\n",
       "      <td>946</td>\n",
       "      <td>1</td>\n",
       "      <td>1</td>\n",
       "      <td>0</td>\n",
       "      <td>1</td>\n",
       "      <td>15.204017</td>\n",
       "    </tr>\n",
       "    <tr>\n",
       "      <th>5572</th>\n",
       "      <td>1113</td>\n",
       "      <td>1</td>\n",
       "      <td>2015-07-27</td>\n",
       "      <td>7582</td>\n",
       "      <td>684</td>\n",
       "      <td>1</td>\n",
       "      <td>1</td>\n",
       "      <td>0</td>\n",
       "      <td>1</td>\n",
       "      <td>11.084795</td>\n",
       "    </tr>\n",
       "    <tr>\n",
       "      <th>5573</th>\n",
       "      <td>1114</td>\n",
       "      <td>1</td>\n",
       "      <td>2015-07-27</td>\n",
       "      <td>26720</td>\n",
       "      <td>3468</td>\n",
       "      <td>1</td>\n",
       "      <td>1</td>\n",
       "      <td>0</td>\n",
       "      <td>1</td>\n",
       "      <td>7.704729</td>\n",
       "    </tr>\n",
       "    <tr>\n",
       "      <th>5574</th>\n",
       "      <td>1115</td>\n",
       "      <td>1</td>\n",
       "      <td>2015-07-27</td>\n",
       "      <td>10712</td>\n",
       "      <td>608</td>\n",
       "      <td>1</td>\n",
       "      <td>1</td>\n",
       "      <td>0</td>\n",
       "      <td>1</td>\n",
       "      <td>17.618421</td>\n",
       "    </tr>\n",
       "  </tbody>\n",
       "</table>\n",
       "<p>5575 rows × 10 columns</p>\n",
       "</div>"
      ],
      "text/plain": [
       "      Store  DayOfWeek        Date  Sales  Customers  Open  Promo  \\\n",
       "0         1          5  2015-07-31   5263        555     1      1   \n",
       "1         2          5  2015-07-31   6064        625     1      1   \n",
       "2         3          5  2015-07-31   8314        821     1      1   \n",
       "3         4          5  2015-07-31  13995       1498     1      1   \n",
       "4         5          5  2015-07-31   4822        559     1      1   \n",
       "...     ...        ...         ...    ...        ...   ...    ...   \n",
       "5570   1111          1  2015-07-27   7742        515     1      1   \n",
       "5571   1112          1  2015-07-27  14383        946     1      1   \n",
       "5572   1113          1  2015-07-27   7582        684     1      1   \n",
       "5573   1114          1  2015-07-27  26720       3468     1      1   \n",
       "5574   1115          1  2015-07-27  10712        608     1      1   \n",
       "\n",
       "     StateHoliday  SchoolHoliday        spc  \n",
       "0               0              1   9.482883  \n",
       "1               0              1   9.702400  \n",
       "2               0              1  10.126675  \n",
       "3               0              1   9.342457  \n",
       "4               0              1   8.626118  \n",
       "...           ...            ...        ...  \n",
       "5570            0              1  15.033010  \n",
       "5571            0              1  15.204017  \n",
       "5572            0              1  11.084795  \n",
       "5573            0              1   7.704729  \n",
       "5574            0              1  17.618421  \n",
       "\n",
       "[5575 rows x 10 columns]"
      ]
     },
     "execution_count": 20,
     "metadata": {},
     "output_type": "execute_result"
    }
   ],
   "source": [
    "group = train.groupby(['Store'])  # store에 그룹화\n",
    "\n",
    "group.head()"
   ]
  },
  {
   "cell_type": "code",
   "execution_count": 24,
   "id": "e1271c26",
   "metadata": {
    "scrolled": false
   },
   "outputs": [],
   "source": [
    "df_data = pd.DataFrame()\n",
    "df_data['Sales_Mean']=pd.DataFrame(group['Sales'].mean())\n",
    "df_data['avg_customers']=pd.DataFrame(group['Customers'].mean())\n",
    "df_data['SalesPerCustomer']=pd.DataFrame(group['spc'].mean())"
   ]
  },
  {
   "cell_type": "code",
   "execution_count": null,
   "id": "e126bc01",
   "metadata": {},
   "outputs": [],
   "source": [
    "# #4.2 두번 째 방법 groupby를 이용해 한방에 하기 ( 아직 완성 못함...ㅜ store가 하나의 행렬값으로 가져가기가...?)\n",
    "# Mean_Sales_Store=train.groupby('Store')['Sales'].apply(lambda x:x.fillna(x.mean()))\n",
    "# Mean_Sales_Store.info"
   ]
  },
  {
   "cell_type": "code",
   "execution_count": null,
   "id": "05cea162",
   "metadata": {},
   "outputs": [],
   "source": [
    "# Mean_Customers_Store=train.groupby('Store')['Customers'].apply(lambda x:x.fillna(x.mean()))\n",
    "# Mean_Customers_Store.head(5)"
   ]
  },
  {
   "cell_type": "code",
   "execution_count": null,
   "id": "0b437709",
   "metadata": {},
   "outputs": [],
   "source": [
    "# Mean_Customers_Store=train.groupby('Store')['spc'].apply(lambda x:x.fillna(x.mean()))\n",
    "# Mean_Customers_Store.head(5)"
   ]
  },
  {
   "cell_type": "markdown",
   "id": "9b2094d0",
   "metadata": {},
   "source": [
    "### 5. store df 에 4번에서 생성된 컬럼 merge 시키기 >>store df columns:"
   ]
  },
  {
   "cell_type": "code",
   "execution_count": 25,
   "id": "cca7b8b2",
   "metadata": {},
   "outputs": [
    {
     "name": "stdout",
     "output_type": "stream",
     "text": [
      "      Store StoreType Assortment  CompetitionDistance  \\\n",
      "0         1         c          a               1270.0   \n",
      "1         2         a          a                570.0   \n",
      "2         3         a          a              14130.0   \n",
      "3         4         c          c                620.0   \n",
      "4         5         a          a              29910.0   \n",
      "...     ...       ...        ...                  ...   \n",
      "1110   1111         a          a               1900.0   \n",
      "1111   1112         c          c               1880.0   \n",
      "1112   1113         a          c               9260.0   \n",
      "1113   1114         a          c                870.0   \n",
      "1114   1115         d          c               5350.0   \n",
      "\n",
      "      CompetitionOpenSinceMonth  CompetitionOpenSinceYear  Promo2  \\\n",
      "0                           9.0                    2008.0       0   \n",
      "1                          11.0                    2007.0       1   \n",
      "2                          12.0                    2006.0       1   \n",
      "3                           9.0                    2009.0       0   \n",
      "4                           4.0                    2015.0       0   \n",
      "...                         ...                       ...     ...   \n",
      "1110                        6.0                    2014.0       1   \n",
      "1111                        4.0                    2006.0       0   \n",
      "1112                        0.0                       0.0       0   \n",
      "1113                        0.0                       0.0       0   \n",
      "1114                        0.0                       0.0       1   \n",
      "\n",
      "      Promo2SinceWeek  Promo2SinceYear     PromoInterval    Sales_Mean  \\\n",
      "0                 0.0              0.0                 0   3884.122951   \n",
      "1                13.0           2010.0   Jan,Apr,Jul,Oct   4212.372603   \n",
      "2                14.0           2011.0   Jan,Apr,Jul,Oct   5741.041096   \n",
      "3                 0.0              0.0                 0   8323.953425   \n",
      "4                 0.0              0.0                 0   3919.868493   \n",
      "...               ...              ...               ...           ...   \n",
      "1110             31.0           2013.0   Jan,Apr,Jul,Oct   4082.389041   \n",
      "1111              0.0              0.0                 0   7617.778082   \n",
      "1112              0.0              0.0                 0   5690.246575   \n",
      "1113              0.0              0.0                 0  17845.736986   \n",
      "1114             22.0           2012.0  Mar,Jun,Sept,Dec   5821.553425   \n",
      "\n",
      "      avg_customers  SalesPerCustomer  \n",
      "0        453.658470          8.509011  \n",
      "1        484.695890          8.609768  \n",
      "2        611.147945          9.264852  \n",
      "3       1114.953425          7.426265  \n",
      "4        442.750685          8.780816  \n",
      "...             ...               ...  \n",
      "1110     344.358904         11.740016  \n",
      "1111     638.504110         11.763065  \n",
      "1112     594.923288          9.529401  \n",
      "1113    2684.405479          6.646805  \n",
      "1114     391.495890         14.739258  \n",
      "\n",
      "[1115 rows x 13 columns]\n",
      "Store                        1115\n",
      "StoreType                       4\n",
      "Assortment                      3\n",
      "CompetitionDistance           655\n",
      "CompetitionOpenSinceMonth      13\n",
      "CompetitionOpenSinceYear       24\n",
      "Promo2                          2\n",
      "Promo2SinceWeek                25\n",
      "Promo2SinceYear                 8\n",
      "PromoInterval                   4\n",
      "Sales_Mean                   1114\n",
      "avg_customers                1115\n",
      "SalesPerCustomer             1115\n",
      "dtype: int64\n"
     ]
    }
   ],
   "source": [
    "# 5. \n",
    "store=pd.merge(store,df_data,on='Store',how='inner')\n",
    "print(store)\n",
    "print(store.nunique())\n"
   ]
  },
  {
   "cell_type": "markdown",
   "id": "4af77c48",
   "metadata": {},
   "source": [
    "### 6. Train df에 store df merge 시키키(기준은 store명 기준으로)"
   ]
  },
  {
   "cell_type": "code",
   "execution_count": 26,
   "id": "7614e606",
   "metadata": {},
   "outputs": [
    {
     "data": {
      "text/html": [
       "<div>\n",
       "<style scoped>\n",
       "    .dataframe tbody tr th:only-of-type {\n",
       "        vertical-align: middle;\n",
       "    }\n",
       "\n",
       "    .dataframe tbody tr th {\n",
       "        vertical-align: top;\n",
       "    }\n",
       "\n",
       "    .dataframe thead th {\n",
       "        text-align: right;\n",
       "    }\n",
       "</style>\n",
       "<table border=\"1\" class=\"dataframe\">\n",
       "  <thead>\n",
       "    <tr style=\"text-align: right;\">\n",
       "      <th></th>\n",
       "      <th>Store</th>\n",
       "      <th>DayOfWeek</th>\n",
       "      <th>Date</th>\n",
       "      <th>Sales</th>\n",
       "      <th>Customers</th>\n",
       "      <th>Open</th>\n",
       "      <th>Promo</th>\n",
       "      <th>StateHoliday</th>\n",
       "      <th>SchoolHoliday</th>\n",
       "      <th>spc</th>\n",
       "      <th>...</th>\n",
       "      <th>CompetitionDistance</th>\n",
       "      <th>CompetitionOpenSinceMonth</th>\n",
       "      <th>CompetitionOpenSinceYear</th>\n",
       "      <th>Promo2</th>\n",
       "      <th>Promo2SinceWeek</th>\n",
       "      <th>Promo2SinceYear</th>\n",
       "      <th>PromoInterval</th>\n",
       "      <th>Sales_Mean</th>\n",
       "      <th>avg_customers</th>\n",
       "      <th>SalesPerCustomer</th>\n",
       "    </tr>\n",
       "  </thead>\n",
       "  <tbody>\n",
       "    <tr>\n",
       "      <th>0</th>\n",
       "      <td>1</td>\n",
       "      <td>5</td>\n",
       "      <td>2015-07-31</td>\n",
       "      <td>5263</td>\n",
       "      <td>555</td>\n",
       "      <td>1</td>\n",
       "      <td>1</td>\n",
       "      <td>0</td>\n",
       "      <td>1</td>\n",
       "      <td>9.482883</td>\n",
       "      <td>...</td>\n",
       "      <td>1270.0</td>\n",
       "      <td>9.0</td>\n",
       "      <td>2008.0</td>\n",
       "      <td>0</td>\n",
       "      <td>0.0</td>\n",
       "      <td>0.0</td>\n",
       "      <td>0</td>\n",
       "      <td>3884.122951</td>\n",
       "      <td>453.65847</td>\n",
       "      <td>8.509011</td>\n",
       "    </tr>\n",
       "    <tr>\n",
       "      <th>1</th>\n",
       "      <td>1</td>\n",
       "      <td>4</td>\n",
       "      <td>2015-07-30</td>\n",
       "      <td>5020</td>\n",
       "      <td>546</td>\n",
       "      <td>1</td>\n",
       "      <td>1</td>\n",
       "      <td>0</td>\n",
       "      <td>1</td>\n",
       "      <td>9.194139</td>\n",
       "      <td>...</td>\n",
       "      <td>1270.0</td>\n",
       "      <td>9.0</td>\n",
       "      <td>2008.0</td>\n",
       "      <td>0</td>\n",
       "      <td>0.0</td>\n",
       "      <td>0.0</td>\n",
       "      <td>0</td>\n",
       "      <td>3884.122951</td>\n",
       "      <td>453.65847</td>\n",
       "      <td>8.509011</td>\n",
       "    </tr>\n",
       "    <tr>\n",
       "      <th>2</th>\n",
       "      <td>1</td>\n",
       "      <td>3</td>\n",
       "      <td>2015-07-29</td>\n",
       "      <td>4782</td>\n",
       "      <td>523</td>\n",
       "      <td>1</td>\n",
       "      <td>1</td>\n",
       "      <td>0</td>\n",
       "      <td>1</td>\n",
       "      <td>9.143403</td>\n",
       "      <td>...</td>\n",
       "      <td>1270.0</td>\n",
       "      <td>9.0</td>\n",
       "      <td>2008.0</td>\n",
       "      <td>0</td>\n",
       "      <td>0.0</td>\n",
       "      <td>0.0</td>\n",
       "      <td>0</td>\n",
       "      <td>3884.122951</td>\n",
       "      <td>453.65847</td>\n",
       "      <td>8.509011</td>\n",
       "    </tr>\n",
       "    <tr>\n",
       "      <th>3</th>\n",
       "      <td>1</td>\n",
       "      <td>2</td>\n",
       "      <td>2015-07-28</td>\n",
       "      <td>5011</td>\n",
       "      <td>560</td>\n",
       "      <td>1</td>\n",
       "      <td>1</td>\n",
       "      <td>0</td>\n",
       "      <td>1</td>\n",
       "      <td>8.948214</td>\n",
       "      <td>...</td>\n",
       "      <td>1270.0</td>\n",
       "      <td>9.0</td>\n",
       "      <td>2008.0</td>\n",
       "      <td>0</td>\n",
       "      <td>0.0</td>\n",
       "      <td>0.0</td>\n",
       "      <td>0</td>\n",
       "      <td>3884.122951</td>\n",
       "      <td>453.65847</td>\n",
       "      <td>8.509011</td>\n",
       "    </tr>\n",
       "    <tr>\n",
       "      <th>4</th>\n",
       "      <td>1</td>\n",
       "      <td>1</td>\n",
       "      <td>2015-07-27</td>\n",
       "      <td>6102</td>\n",
       "      <td>612</td>\n",
       "      <td>1</td>\n",
       "      <td>1</td>\n",
       "      <td>0</td>\n",
       "      <td>1</td>\n",
       "      <td>9.970588</td>\n",
       "      <td>...</td>\n",
       "      <td>1270.0</td>\n",
       "      <td>9.0</td>\n",
       "      <td>2008.0</td>\n",
       "      <td>0</td>\n",
       "      <td>0.0</td>\n",
       "      <td>0.0</td>\n",
       "      <td>0</td>\n",
       "      <td>3884.122951</td>\n",
       "      <td>453.65847</td>\n",
       "      <td>8.509011</td>\n",
       "    </tr>\n",
       "    <tr>\n",
       "      <th>...</th>\n",
       "      <td>...</td>\n",
       "      <td>...</td>\n",
       "      <td>...</td>\n",
       "      <td>...</td>\n",
       "      <td>...</td>\n",
       "      <td>...</td>\n",
       "      <td>...</td>\n",
       "      <td>...</td>\n",
       "      <td>...</td>\n",
       "      <td>...</td>\n",
       "      <td>...</td>\n",
       "      <td>...</td>\n",
       "      <td>...</td>\n",
       "      <td>...</td>\n",
       "      <td>...</td>\n",
       "      <td>...</td>\n",
       "      <td>...</td>\n",
       "      <td>...</td>\n",
       "      <td>...</td>\n",
       "      <td>...</td>\n",
       "      <td>...</td>\n",
       "    </tr>\n",
       "    <tr>\n",
       "      <th>379431</th>\n",
       "      <td>1115</td>\n",
       "      <td>2</td>\n",
       "      <td>2014-08-05</td>\n",
       "      <td>7028</td>\n",
       "      <td>459</td>\n",
       "      <td>1</td>\n",
       "      <td>1</td>\n",
       "      <td>0</td>\n",
       "      <td>1</td>\n",
       "      <td>15.311547</td>\n",
       "      <td>...</td>\n",
       "      <td>5350.0</td>\n",
       "      <td>0.0</td>\n",
       "      <td>0.0</td>\n",
       "      <td>1</td>\n",
       "      <td>22.0</td>\n",
       "      <td>2012.0</td>\n",
       "      <td>Mar,Jun,Sept,Dec</td>\n",
       "      <td>5821.553425</td>\n",
       "      <td>391.49589</td>\n",
       "      <td>14.739258</td>\n",
       "    </tr>\n",
       "    <tr>\n",
       "      <th>379432</th>\n",
       "      <td>1115</td>\n",
       "      <td>1</td>\n",
       "      <td>2014-08-04</td>\n",
       "      <td>8457</td>\n",
       "      <td>543</td>\n",
       "      <td>1</td>\n",
       "      <td>1</td>\n",
       "      <td>0</td>\n",
       "      <td>1</td>\n",
       "      <td>15.574586</td>\n",
       "      <td>...</td>\n",
       "      <td>5350.0</td>\n",
       "      <td>0.0</td>\n",
       "      <td>0.0</td>\n",
       "      <td>1</td>\n",
       "      <td>22.0</td>\n",
       "      <td>2012.0</td>\n",
       "      <td>Mar,Jun,Sept,Dec</td>\n",
       "      <td>5821.553425</td>\n",
       "      <td>391.49589</td>\n",
       "      <td>14.739258</td>\n",
       "    </tr>\n",
       "    <tr>\n",
       "      <th>379433</th>\n",
       "      <td>1115</td>\n",
       "      <td>7</td>\n",
       "      <td>2014-08-03</td>\n",
       "      <td>0</td>\n",
       "      <td>0</td>\n",
       "      <td>0</td>\n",
       "      <td>0</td>\n",
       "      <td>0</td>\n",
       "      <td>1</td>\n",
       "      <td>NaN</td>\n",
       "      <td>...</td>\n",
       "      <td>5350.0</td>\n",
       "      <td>0.0</td>\n",
       "      <td>0.0</td>\n",
       "      <td>1</td>\n",
       "      <td>22.0</td>\n",
       "      <td>2012.0</td>\n",
       "      <td>Mar,Jun,Sept,Dec</td>\n",
       "      <td>5821.553425</td>\n",
       "      <td>391.49589</td>\n",
       "      <td>14.739258</td>\n",
       "    </tr>\n",
       "    <tr>\n",
       "      <th>379434</th>\n",
       "      <td>1115</td>\n",
       "      <td>6</td>\n",
       "      <td>2014-08-02</td>\n",
       "      <td>6455</td>\n",
       "      <td>458</td>\n",
       "      <td>1</td>\n",
       "      <td>0</td>\n",
       "      <td>0</td>\n",
       "      <td>1</td>\n",
       "      <td>14.093886</td>\n",
       "      <td>...</td>\n",
       "      <td>5350.0</td>\n",
       "      <td>0.0</td>\n",
       "      <td>0.0</td>\n",
       "      <td>1</td>\n",
       "      <td>22.0</td>\n",
       "      <td>2012.0</td>\n",
       "      <td>Mar,Jun,Sept,Dec</td>\n",
       "      <td>5821.553425</td>\n",
       "      <td>391.49589</td>\n",
       "      <td>14.739258</td>\n",
       "    </tr>\n",
       "    <tr>\n",
       "      <th>379435</th>\n",
       "      <td>1115</td>\n",
       "      <td>5</td>\n",
       "      <td>2014-08-01</td>\n",
       "      <td>8580</td>\n",
       "      <td>514</td>\n",
       "      <td>1</td>\n",
       "      <td>1</td>\n",
       "      <td>0</td>\n",
       "      <td>1</td>\n",
       "      <td>16.692607</td>\n",
       "      <td>...</td>\n",
       "      <td>5350.0</td>\n",
       "      <td>0.0</td>\n",
       "      <td>0.0</td>\n",
       "      <td>1</td>\n",
       "      <td>22.0</td>\n",
       "      <td>2012.0</td>\n",
       "      <td>Mar,Jun,Sept,Dec</td>\n",
       "      <td>5821.553425</td>\n",
       "      <td>391.49589</td>\n",
       "      <td>14.739258</td>\n",
       "    </tr>\n",
       "  </tbody>\n",
       "</table>\n",
       "<p>379436 rows × 22 columns</p>\n",
       "</div>"
      ],
      "text/plain": [
       "        Store  DayOfWeek        Date  Sales  Customers  Open  Promo  \\\n",
       "0           1          5  2015-07-31   5263        555     1      1   \n",
       "1           1          4  2015-07-30   5020        546     1      1   \n",
       "2           1          3  2015-07-29   4782        523     1      1   \n",
       "3           1          2  2015-07-28   5011        560     1      1   \n",
       "4           1          1  2015-07-27   6102        612     1      1   \n",
       "...       ...        ...         ...    ...        ...   ...    ...   \n",
       "379431   1115          2  2014-08-05   7028        459     1      1   \n",
       "379432   1115          1  2014-08-04   8457        543     1      1   \n",
       "379433   1115          7  2014-08-03      0          0     0      0   \n",
       "379434   1115          6  2014-08-02   6455        458     1      0   \n",
       "379435   1115          5  2014-08-01   8580        514     1      1   \n",
       "\n",
       "       StateHoliday  SchoolHoliday        spc  ... CompetitionDistance  \\\n",
       "0                 0              1   9.482883  ...              1270.0   \n",
       "1                 0              1   9.194139  ...              1270.0   \n",
       "2                 0              1   9.143403  ...              1270.0   \n",
       "3                 0              1   8.948214  ...              1270.0   \n",
       "4                 0              1   9.970588  ...              1270.0   \n",
       "...             ...            ...        ...  ...                 ...   \n",
       "379431            0              1  15.311547  ...              5350.0   \n",
       "379432            0              1  15.574586  ...              5350.0   \n",
       "379433            0              1        NaN  ...              5350.0   \n",
       "379434            0              1  14.093886  ...              5350.0   \n",
       "379435            0              1  16.692607  ...              5350.0   \n",
       "\n",
       "       CompetitionOpenSinceMonth  CompetitionOpenSinceYear  Promo2  \\\n",
       "0                            9.0                    2008.0       0   \n",
       "1                            9.0                    2008.0       0   \n",
       "2                            9.0                    2008.0       0   \n",
       "3                            9.0                    2008.0       0   \n",
       "4                            9.0                    2008.0       0   \n",
       "...                          ...                       ...     ...   \n",
       "379431                       0.0                       0.0       1   \n",
       "379432                       0.0                       0.0       1   \n",
       "379433                       0.0                       0.0       1   \n",
       "379434                       0.0                       0.0       1   \n",
       "379435                       0.0                       0.0       1   \n",
       "\n",
       "        Promo2SinceWeek  Promo2SinceYear     PromoInterval   Sales_Mean  \\\n",
       "0                   0.0              0.0                 0  3884.122951   \n",
       "1                   0.0              0.0                 0  3884.122951   \n",
       "2                   0.0              0.0                 0  3884.122951   \n",
       "3                   0.0              0.0                 0  3884.122951   \n",
       "4                   0.0              0.0                 0  3884.122951   \n",
       "...                 ...              ...               ...          ...   \n",
       "379431             22.0           2012.0  Mar,Jun,Sept,Dec  5821.553425   \n",
       "379432             22.0           2012.0  Mar,Jun,Sept,Dec  5821.553425   \n",
       "379433             22.0           2012.0  Mar,Jun,Sept,Dec  5821.553425   \n",
       "379434             22.0           2012.0  Mar,Jun,Sept,Dec  5821.553425   \n",
       "379435             22.0           2012.0  Mar,Jun,Sept,Dec  5821.553425   \n",
       "\n",
       "       avg_customers  SalesPerCustomer  \n",
       "0          453.65847          8.509011  \n",
       "1          453.65847          8.509011  \n",
       "2          453.65847          8.509011  \n",
       "3          453.65847          8.509011  \n",
       "4          453.65847          8.509011  \n",
       "...              ...               ...  \n",
       "379431     391.49589         14.739258  \n",
       "379432     391.49589         14.739258  \n",
       "379433     391.49589         14.739258  \n",
       "379434     391.49589         14.739258  \n",
       "379435     391.49589         14.739258  \n",
       "\n",
       "[379436 rows x 22 columns]"
      ]
     },
     "execution_count": 26,
     "metadata": {},
     "output_type": "execute_result"
    }
   ],
   "source": [
    "#6\n",
    "train=pd.merge(train,store,on='Store',how='inner')\n",
    "train"
   ]
  },
  {
   "cell_type": "markdown",
   "id": "6439473f",
   "metadata": {},
   "source": [
    "### 7. train df에서 data를 year,Month,day,week로 변환하여 각각 컬럼 생성"
   ]
  },
  {
   "cell_type": "code",
   "execution_count": 27,
   "id": "cd466ad4",
   "metadata": {
    "scrolled": true
   },
   "outputs": [
    {
     "name": "stdout",
     "output_type": "stream",
     "text": [
      "<class 'pandas.core.series.Series'>\n",
      "Int64Index: 379436 entries, 0 to 379435\n",
      "Series name: Date\n",
      "Non-Null Count   Dtype         \n",
      "--------------   -----         \n",
      "379436 non-null  datetime64[ns]\n",
      "dtypes: datetime64[ns](1)\n",
      "memory usage: 5.8 MB\n"
     ]
    }
   ],
   "source": [
    "train['Date']=pd.to_datetime(train['Date'])\n",
    "train['Date'].info()"
   ]
  },
  {
   "cell_type": "code",
   "execution_count": 28,
   "id": "de32706f",
   "metadata": {},
   "outputs": [
    {
     "name": "stdout",
     "output_type": "stream",
     "text": [
      "        Store  DayOfWeek       Date  Sales  Customers  Open  Promo  \\\n",
      "0           1          5 2015-07-31   5263        555     1      1   \n",
      "1           1          4 2015-07-30   5020        546     1      1   \n",
      "2           1          3 2015-07-29   4782        523     1      1   \n",
      "3           1          2 2015-07-28   5011        560     1      1   \n",
      "4           1          1 2015-07-27   6102        612     1      1   \n",
      "...       ...        ...        ...    ...        ...   ...    ...   \n",
      "379431   1115          2 2014-08-05   7028        459     1      1   \n",
      "379432   1115          1 2014-08-04   8457        543     1      1   \n",
      "379433   1115          7 2014-08-03      0          0     0      0   \n",
      "379434   1115          6 2014-08-02   6455        458     1      0   \n",
      "379435   1115          5 2014-08-01   8580        514     1      1   \n",
      "\n",
      "       StateHoliday  SchoolHoliday        spc  ... Promo2 Promo2SinceWeek  \\\n",
      "0                 0              1   9.482883  ...      0             0.0   \n",
      "1                 0              1   9.194139  ...      0             0.0   \n",
      "2                 0              1   9.143403  ...      0             0.0   \n",
      "3                 0              1   8.948214  ...      0             0.0   \n",
      "4                 0              1   9.970588  ...      0             0.0   \n",
      "...             ...            ...        ...  ...    ...             ...   \n",
      "379431            0              1  15.311547  ...      1            22.0   \n",
      "379432            0              1  15.574586  ...      1            22.0   \n",
      "379433            0              1        NaN  ...      1            22.0   \n",
      "379434            0              1  14.093886  ...      1            22.0   \n",
      "379435            0              1  16.692607  ...      1            22.0   \n",
      "\n",
      "        Promo2SinceYear     PromoInterval   Sales_Mean  avg_customers  \\\n",
      "0                   0.0                 0  3884.122951      453.65847   \n",
      "1                   0.0                 0  3884.122951      453.65847   \n",
      "2                   0.0                 0  3884.122951      453.65847   \n",
      "3                   0.0                 0  3884.122951      453.65847   \n",
      "4                   0.0                 0  3884.122951      453.65847   \n",
      "...                 ...               ...          ...            ...   \n",
      "379431           2012.0  Mar,Jun,Sept,Dec  5821.553425      391.49589   \n",
      "379432           2012.0  Mar,Jun,Sept,Dec  5821.553425      391.49589   \n",
      "379433           2012.0  Mar,Jun,Sept,Dec  5821.553425      391.49589   \n",
      "379434           2012.0  Mar,Jun,Sept,Dec  5821.553425      391.49589   \n",
      "379435           2012.0  Mar,Jun,Sept,Dec  5821.553425      391.49589   \n",
      "\n",
      "        SalesPerCustomer  Year Weekday  Day  \n",
      "0               8.509011  2015       7   31  \n",
      "1               8.509011  2015       7   30  \n",
      "2               8.509011  2015       7   29  \n",
      "3               8.509011  2015       7   28  \n",
      "4               8.509011  2015       7   27  \n",
      "...                  ...   ...     ...  ...  \n",
      "379431         14.739258  2014       8    5  \n",
      "379432         14.739258  2014       8    4  \n",
      "379433         14.739258  2014       8    3  \n",
      "379434         14.739258  2014       8    2  \n",
      "379435         14.739258  2014       8    1  \n",
      "\n",
      "[379436 rows x 25 columns]\n",
      "int64\n"
     ]
    }
   ],
   "source": [
    "train['Year'] = train['Date'].dt.year\n",
    "train['Weekday'] = train['Date'].dt.month\n",
    "train['Day'] = train['Date'].dt.day\n",
    "\n",
    "print(train)\n",
    "print(train['Year'].dtype)"
   ]
  },
  {
   "cell_type": "markdown",
   "id": "b6ef58e8",
   "metadata": {},
   "source": [
    "### 8. competition/promotion에 대한 진행 여부 계산하기"
   ]
  },
  {
   "cell_type": "code",
   "execution_count": 29,
   "id": "5ed1a2a8",
   "metadata": {},
   "outputs": [
    {
     "data": {
      "text/plain": [
       "Index(['Store', 'DayOfWeek', 'Date', 'Sales', 'Customers', 'Open', 'Promo',\n",
       "       'StateHoliday', 'SchoolHoliday', 'spc', 'StoreType', 'Assortment',\n",
       "       'CompetitionDistance', 'CompetitionOpenSinceMonth',\n",
       "       'CompetitionOpenSinceYear', 'Promo2', 'Promo2SinceWeek',\n",
       "       'Promo2SinceYear', 'PromoInterval', 'Sales_Mean', 'avg_customers',\n",
       "       'SalesPerCustomer', 'Year', 'Weekday', 'Day'],\n",
       "      dtype='object')"
      ]
     },
     "execution_count": 29,
     "metadata": {},
     "output_type": "execute_result"
    }
   ],
   "source": [
    "train.columns"
   ]
  },
  {
   "cell_type": "code",
   "execution_count": 30,
   "id": "c360ea2f",
   "metadata": {
    "scrolled": false
   },
   "outputs": [
    {
     "name": "stdout",
     "output_type": "stream",
     "text": [
      "Index(['Store', 'DayOfWeek', 'Date', 'Sales', 'Customers', 'Open', 'Promo',\n",
      "       'StateHoliday', 'SchoolHoliday', 'spc', 'StoreType', 'Assortment',\n",
      "       'CompetitionDistance', 'CompetitionOpenSinceMonth',\n",
      "       'CompetitionOpenSinceYear', 'Promo2', 'Promo2SinceWeek',\n",
      "       'Promo2SinceYear', 'PromoInterval', 'Sales_Mean', 'avg_customers',\n",
      "       'SalesPerCustomer', 'Year', 'Weekday', 'Day'],\n",
      "      dtype='object')\n"
     ]
    },
    {
     "name": "stderr",
     "output_type": "stream",
     "text": [
      "C:\\Users\\user\\AppData\\Local\\Temp\\ipykernel_5544\\1706110079.py:15: FutureWarning: Series.dt.weekofyear and Series.dt.week have been deprecated. Please use Series.dt.isocalendar().week instead.\n",
      "  merged['Week'] = merged.Date.dt.week\n",
      "C:\\Users\\user\\AppData\\Local\\Temp\\ipykernel_5544\\1706110079.py:25: FutureWarning: Series.dt.weekofyear and Series.dt.week have been deprecated. Please use Series.dt.isocalendar().week instead.\n",
      "  (merged['Date'].dt.weekofyear - merged['Promo2SinceWeek'])\n"
     ]
    },
    {
     "data": {
      "text/html": [
       "<div>\n",
       "<style scoped>\n",
       "    .dataframe tbody tr th:only-of-type {\n",
       "        vertical-align: middle;\n",
       "    }\n",
       "\n",
       "    .dataframe tbody tr th {\n",
       "        vertical-align: top;\n",
       "    }\n",
       "\n",
       "    .dataframe thead th {\n",
       "        text-align: right;\n",
       "    }\n",
       "</style>\n",
       "<table border=\"1\" class=\"dataframe\">\n",
       "  <thead>\n",
       "    <tr style=\"text-align: right;\">\n",
       "      <th></th>\n",
       "      <th>Store</th>\n",
       "      <th>DayOfWeek</th>\n",
       "      <th>Date</th>\n",
       "      <th>Sales</th>\n",
       "      <th>Customers</th>\n",
       "      <th>Open</th>\n",
       "      <th>Promo</th>\n",
       "      <th>StateHoliday</th>\n",
       "      <th>SchoolHoliday</th>\n",
       "      <th>spc</th>\n",
       "      <th>...</th>\n",
       "      <th>Sales_Mean</th>\n",
       "      <th>avg_customers</th>\n",
       "      <th>SalesPerCustomer</th>\n",
       "      <th>Year</th>\n",
       "      <th>Weekday</th>\n",
       "      <th>Day</th>\n",
       "      <th>Month</th>\n",
       "      <th>Week</th>\n",
       "      <th>MonthsCompetitionOpen</th>\n",
       "      <th>WeeksPromoOpen</th>\n",
       "    </tr>\n",
       "  </thead>\n",
       "  <tbody>\n",
       "    <tr>\n",
       "      <th>0</th>\n",
       "      <td>1</td>\n",
       "      <td>5</td>\n",
       "      <td>2015-07-31</td>\n",
       "      <td>5263</td>\n",
       "      <td>555</td>\n",
       "      <td>1</td>\n",
       "      <td>1</td>\n",
       "      <td>1</td>\n",
       "      <td>1</td>\n",
       "      <td>9.482883</td>\n",
       "      <td>...</td>\n",
       "      <td>3884.122951</td>\n",
       "      <td>453.65847</td>\n",
       "      <td>8.509011</td>\n",
       "      <td>2015</td>\n",
       "      <td>7</td>\n",
       "      <td>31</td>\n",
       "      <td>7</td>\n",
       "      <td>31</td>\n",
       "      <td>82</td>\n",
       "      <td>0</td>\n",
       "    </tr>\n",
       "    <tr>\n",
       "      <th>1</th>\n",
       "      <td>1</td>\n",
       "      <td>4</td>\n",
       "      <td>2015-07-30</td>\n",
       "      <td>5020</td>\n",
       "      <td>546</td>\n",
       "      <td>1</td>\n",
       "      <td>1</td>\n",
       "      <td>1</td>\n",
       "      <td>1</td>\n",
       "      <td>9.194139</td>\n",
       "      <td>...</td>\n",
       "      <td>3884.122951</td>\n",
       "      <td>453.65847</td>\n",
       "      <td>8.509011</td>\n",
       "      <td>2015</td>\n",
       "      <td>7</td>\n",
       "      <td>30</td>\n",
       "      <td>7</td>\n",
       "      <td>31</td>\n",
       "      <td>82</td>\n",
       "      <td>0</td>\n",
       "    </tr>\n",
       "    <tr>\n",
       "      <th>2</th>\n",
       "      <td>1</td>\n",
       "      <td>3</td>\n",
       "      <td>2015-07-29</td>\n",
       "      <td>4782</td>\n",
       "      <td>523</td>\n",
       "      <td>1</td>\n",
       "      <td>1</td>\n",
       "      <td>1</td>\n",
       "      <td>1</td>\n",
       "      <td>9.143403</td>\n",
       "      <td>...</td>\n",
       "      <td>3884.122951</td>\n",
       "      <td>453.65847</td>\n",
       "      <td>8.509011</td>\n",
       "      <td>2015</td>\n",
       "      <td>7</td>\n",
       "      <td>29</td>\n",
       "      <td>7</td>\n",
       "      <td>31</td>\n",
       "      <td>82</td>\n",
       "      <td>0</td>\n",
       "    </tr>\n",
       "    <tr>\n",
       "      <th>3</th>\n",
       "      <td>1</td>\n",
       "      <td>2</td>\n",
       "      <td>2015-07-28</td>\n",
       "      <td>5011</td>\n",
       "      <td>560</td>\n",
       "      <td>1</td>\n",
       "      <td>1</td>\n",
       "      <td>1</td>\n",
       "      <td>1</td>\n",
       "      <td>8.948214</td>\n",
       "      <td>...</td>\n",
       "      <td>3884.122951</td>\n",
       "      <td>453.65847</td>\n",
       "      <td>8.509011</td>\n",
       "      <td>2015</td>\n",
       "      <td>7</td>\n",
       "      <td>28</td>\n",
       "      <td>7</td>\n",
       "      <td>31</td>\n",
       "      <td>82</td>\n",
       "      <td>0</td>\n",
       "    </tr>\n",
       "    <tr>\n",
       "      <th>4</th>\n",
       "      <td>1</td>\n",
       "      <td>1</td>\n",
       "      <td>2015-07-27</td>\n",
       "      <td>6102</td>\n",
       "      <td>612</td>\n",
       "      <td>1</td>\n",
       "      <td>1</td>\n",
       "      <td>1</td>\n",
       "      <td>1</td>\n",
       "      <td>9.970588</td>\n",
       "      <td>...</td>\n",
       "      <td>3884.122951</td>\n",
       "      <td>453.65847</td>\n",
       "      <td>8.509011</td>\n",
       "      <td>2015</td>\n",
       "      <td>7</td>\n",
       "      <td>27</td>\n",
       "      <td>7</td>\n",
       "      <td>31</td>\n",
       "      <td>82</td>\n",
       "      <td>0</td>\n",
       "    </tr>\n",
       "  </tbody>\n",
       "</table>\n",
       "<p>5 rows × 29 columns</p>\n",
       "</div>"
      ],
      "text/plain": [
       "   Store  DayOfWeek       Date  Sales  Customers  Open  Promo  StateHoliday  \\\n",
       "0      1          5 2015-07-31   5263        555     1      1             1   \n",
       "1      1          4 2015-07-30   5020        546     1      1             1   \n",
       "2      1          3 2015-07-29   4782        523     1      1             1   \n",
       "3      1          2 2015-07-28   5011        560     1      1             1   \n",
       "4      1          1 2015-07-27   6102        612     1      1             1   \n",
       "\n",
       "   SchoolHoliday       spc  ...   Sales_Mean avg_customers  SalesPerCustomer  \\\n",
       "0              1  9.482883  ...  3884.122951     453.65847          8.509011   \n",
       "1              1  9.194139  ...  3884.122951     453.65847          8.509011   \n",
       "2              1  9.143403  ...  3884.122951     453.65847          8.509011   \n",
       "3              1  8.948214  ...  3884.122951     453.65847          8.509011   \n",
       "4              1  9.970588  ...  3884.122951     453.65847          8.509011   \n",
       "\n",
       "   Year  Weekday  Day  Month  Week MonthsCompetitionOpen  WeeksPromoOpen  \n",
       "0  2015        7   31      7    31                    82               0  \n",
       "1  2015        7   30      7    31                    82               0  \n",
       "2  2015        7   29      7    31                    82               0  \n",
       "3  2015        7   28      7    31                    82               0  \n",
       "4  2015        7   27      7    31                    82               0  \n",
       "\n",
       "[5 rows x 29 columns]"
      ]
     },
     "execution_count": 30,
     "metadata": {},
     "output_type": "execute_result"
    }
   ],
   "source": [
    "def build_features(train, store):\n",
    "    # 문자열 유형을 정수로 변환\n",
    "    store['StoreType'] = store['StoreType'].astype('category').cat.codes\n",
    "    store['Assortment'] = store['Assortment'].astype('category').cat.codes\n",
    "    train[\"StateHoliday\"] = train[\"StateHoliday\"].astype('category').cat.codes\n",
    "    # merged = pd.merge(train, store, on='Store', how='left')\n",
    "    merged = train\n",
    "    print(merged.columns)\n",
    "    # NaN 제거\n",
    "    NaN_replace = 0\n",
    "    merged.fillna(NaN_replace, inplace=True)\n",
    "    merged['Year'] = merged.Date.dt.year\n",
    "    merged['Month'] = merged.Date.dt.month\n",
    "    merged['Day'] = merged.Date.dt.day\n",
    "    merged['Week'] = merged.Date.dt.week\n",
    "    # 경쟁이 존재한 개월 수\n",
    "    merged['MonthsCompetitionOpen'] = \\\n",
    "        12 * (merged['Year'] - merged['CompetitionOpenSinceYear']) + \\\n",
    "        (merged['Month'] - merged['CompetitionOpenSinceMonth'])\n",
    "    merged.loc[merged['CompetitionOpenSinceYear'] ==\n",
    "               NaN_replace, 'MonthsCompetitionOpen'] = NaN_replace\n",
    "    # 프로모션이 존재한 주 수\n",
    "    merged['WeeksPromoOpen'] = \\\n",
    "        12 * (merged['Year'] - merged['Promo2SinceYear']) + \\\n",
    "        (merged['Date'].dt.weekofyear - merged['Promo2SinceWeek'])\n",
    "    merged.loc[merged['Promo2SinceYear'] ==\n",
    "               NaN_replace, 'WeeksPromoOpen'] = NaN_replace\n",
    "    toInt = [\n",
    "        'CompetitionOpenSinceMonth',\n",
    "        'CompetitionOpenSinceYear',\n",
    "        'Promo2SinceWeek',\n",
    "        'Promo2SinceYear',\n",
    "        'MonthsCompetitionOpen',\n",
    "        'WeeksPromoOpen'\n",
    "    ]\n",
    "    merged[toInt] = merged[toInt].astype(int)\n",
    "    return merged\n",
    "\n",
    "med_store = train.groupby('Store')[['Sales', 'Customers', 'SalesPerCustomer']].median()\n",
    "med_store.rename(columns=lambda x: 'Med' + x, inplace=True)\n",
    "\n",
    "store = pd.merge(med_store.reset_index(), store, on='Store')\n",
    "\n",
    "\n",
    "features = build_features(train, store)\n",
    "features.head()"
   ]
  },
  {
   "cell_type": "markdown",
   "id": "a9606d5b",
   "metadata": {},
   "source": [
    "### 9. train Df에서 label,features 컬럼 나누기 X,y\n"
   ]
  },
  {
   "cell_type": "code",
   "execution_count": 45,
   "id": "0f0be1be",
   "metadata": {
    "scrolled": true
   },
   "outputs": [
    {
     "name": "stdout",
     "output_type": "stream",
     "text": [
      "Index(['Store', 'DayOfWeek', 'Date', 'Sales', 'Customers', 'Open', 'Promo',\n",
      "       'StateHoliday', 'SchoolHoliday', 'spc', 'StoreType', 'Assortment',\n",
      "       'CompetitionDistance', 'CompetitionOpenSinceMonth',\n",
      "       'CompetitionOpenSinceYear', 'Promo2', 'Promo2SinceWeek',\n",
      "       'Promo2SinceYear', 'PromoInterval', 'Sales_Mean', 'avg_customers',\n",
      "       'SalesPerCustomer', 'Year', 'Weekday', 'Day', 'Month', 'Week',\n",
      "       'MonthsCompetitionOpen', 'WeeksPromoOpen'],\n",
      "      dtype='object')\n",
      "Index(['Store', 'DayOfWeek', 'Date', 'Open', 'Promo', 'StateHoliday',\n",
      "       'SchoolHoliday'],\n",
      "      dtype='object')\n"
     ]
    }
   ],
   "source": [
    "print(train.columns)\n",
    "print(test.columns)"
   ]
  },
  {
   "cell_type": "code",
   "execution_count": 50,
   "id": "74b7ecdd",
   "metadata": {},
   "outputs": [],
   "source": [
    "test=test.drop(['Date','Id','StateHoliday','SchoolHoliday'],axis=1)"
   ]
  },
  {
   "cell_type": "code",
   "execution_count": 63,
   "id": "28d0a8b7",
   "metadata": {},
   "outputs": [],
   "source": [
    "features = ['Store', 'DayOfWeek', 'Open', 'Promo']\n",
    "\n",
    "target = ['Sales']\n",
    "\n",
    "X = train[features]\n",
    "y = train[target]"
   ]
  },
  {
   "cell_type": "code",
   "execution_count": 65,
   "id": "c2b6cfd1",
   "metadata": {},
   "outputs": [
    {
     "name": "stdout",
     "output_type": "stream",
     "text": [
      "int64\n",
      "int64\n",
      "int64\n",
      "int64\n"
     ]
    }
   ],
   "source": [
    "print(X['Store'].dtype)\n",
    "print(X['DayOfWeek'].dtype)\n",
    "print(X['Open'].dtype)\n",
    "print(X['Promo'].dtype)"
   ]
  },
  {
   "cell_type": "code",
   "execution_count": 85,
   "id": "be2a7c89",
   "metadata": {},
   "outputs": [
    {
     "name": "stdout",
     "output_type": "stream",
     "text": [
      "379436\n",
      "379436\n"
     ]
    }
   ],
   "source": [
    "print(len(X))\n",
    "print(len(y))"
   ]
  },
  {
   "cell_type": "markdown",
   "id": "e9344514",
   "metadata": {},
   "source": [
    "### 10. X,y 데이터셋을 train,test로 나누기"
   ]
  },
  {
   "cell_type": "code",
   "execution_count": 66,
   "id": "1006a592",
   "metadata": {},
   "outputs": [],
   "source": [
    "X_train, X_test, y_train, y_test = train_test_split(X, y, random_state = 50, train_size=0.8)  #랜덤스플릿"
   ]
  },
  {
   "cell_type": "markdown",
   "id": "83341632",
   "metadata": {},
   "source": [
    "### 회귀(예측)Ai 모델 선택하기:linear regression, logistic regression(메모리 부족으로 안됌), ridge regression, lasso regression, polynomial regression \n",
    "// train에 있는 컬럼 test에 있는 컬럼이랑 sales빼곤 다 똑같아야 함.(컬럼 갯수가 동일해야 한다고 말하는거임)"
   ]
  },
  {
   "cell_type": "code",
   "execution_count": 67,
   "id": "1cb15599",
   "metadata": {},
   "outputs": [],
   "source": [
    "from sklearn.linear_model import LogisticRegression"
   ]
  },
  {
   "cell_type": "code",
   "execution_count": 68,
   "id": "05eae7df",
   "metadata": {},
   "outputs": [
    {
     "name": "stderr",
     "output_type": "stream",
     "text": [
      "C:\\ProgramData\\Anaconda3\\lib\\site-packages\\sklearn\\utils\\validation.py:993: DataConversionWarning: A column-vector y was passed when a 1d array was expected. Please change the shape of y to (n_samples, ), for example using ravel().\n",
      "  y = column_or_1d(y, warn=True)\n"
     ]
    },
    {
     "ename": "MemoryError",
     "evalue": "Unable to allocate 40.1 GiB for an array with shape (303548, 17713) and data type int64",
     "output_type": "error",
     "traceback": [
      "\u001b[1;31m---------------------------------------------------------------------------\u001b[0m",
      "\u001b[1;31mMemoryError\u001b[0m                               Traceback (most recent call last)",
      "Input \u001b[1;32mIn [68]\u001b[0m, in \u001b[0;36m<cell line: 3>\u001b[1;34m()\u001b[0m\n\u001b[0;32m      1\u001b[0m lr \u001b[38;5;241m=\u001b[39m LogisticRegression()\n\u001b[1;32m----> 3\u001b[0m \u001b[43mlr\u001b[49m\u001b[38;5;241;43m.\u001b[39;49m\u001b[43mfit\u001b[49m\u001b[43m(\u001b[49m\u001b[43mX_train\u001b[49m\u001b[43m,\u001b[49m\u001b[43m \u001b[49m\u001b[43my_train\u001b[49m\u001b[43m)\u001b[49m\n\u001b[0;32m      4\u001b[0m preds \u001b[38;5;241m=\u001b[39m lr\u001b[38;5;241m.\u001b[39mpredict(X_test)\n\u001b[0;32m      6\u001b[0m score \u001b[38;5;241m=\u001b[39m lr\u001b[38;5;241m.\u001b[39mscore(X_test, y_test)\n",
      "File \u001b[1;32mC:\\ProgramData\\Anaconda3\\lib\\site-packages\\sklearn\\linear_model\\_logistic.py:1589\u001b[0m, in \u001b[0;36mLogisticRegression.fit\u001b[1;34m(self, X, y, sample_weight)\u001b[0m\n\u001b[0;32m   1587\u001b[0m \u001b[38;5;28;01melse\u001b[39;00m:\n\u001b[0;32m   1588\u001b[0m     prefer \u001b[38;5;241m=\u001b[39m \u001b[38;5;124m\"\u001b[39m\u001b[38;5;124mprocesses\u001b[39m\u001b[38;5;124m\"\u001b[39m\n\u001b[1;32m-> 1589\u001b[0m fold_coefs_ \u001b[38;5;241m=\u001b[39m \u001b[43mParallel\u001b[49m\u001b[43m(\u001b[49m\n\u001b[0;32m   1590\u001b[0m \u001b[43m    \u001b[49m\u001b[43mn_jobs\u001b[49m\u001b[38;5;241;43m=\u001b[39;49m\u001b[38;5;28;43mself\u001b[39;49m\u001b[38;5;241;43m.\u001b[39;49m\u001b[43mn_jobs\u001b[49m\u001b[43m,\u001b[49m\n\u001b[0;32m   1591\u001b[0m \u001b[43m    \u001b[49m\u001b[43mverbose\u001b[49m\u001b[38;5;241;43m=\u001b[39;49m\u001b[38;5;28;43mself\u001b[39;49m\u001b[38;5;241;43m.\u001b[39;49m\u001b[43mverbose\u001b[49m\u001b[43m,\u001b[49m\n\u001b[0;32m   1592\u001b[0m \u001b[43m    \u001b[49m\u001b[38;5;241;43m*\u001b[39;49m\u001b[38;5;241;43m*\u001b[39;49m\u001b[43m_joblib_parallel_args\u001b[49m\u001b[43m(\u001b[49m\u001b[43mprefer\u001b[49m\u001b[38;5;241;43m=\u001b[39;49m\u001b[43mprefer\u001b[49m\u001b[43m)\u001b[49m\u001b[43m,\u001b[49m\n\u001b[0;32m   1593\u001b[0m \u001b[43m\u001b[49m\u001b[43m)\u001b[49m\u001b[43m(\u001b[49m\n\u001b[0;32m   1594\u001b[0m \u001b[43m    \u001b[49m\u001b[43mpath_func\u001b[49m\u001b[43m(\u001b[49m\n\u001b[0;32m   1595\u001b[0m \u001b[43m        \u001b[49m\u001b[43mX\u001b[49m\u001b[43m,\u001b[49m\n\u001b[0;32m   1596\u001b[0m \u001b[43m        \u001b[49m\u001b[43my\u001b[49m\u001b[43m,\u001b[49m\n\u001b[0;32m   1597\u001b[0m \u001b[43m        \u001b[49m\u001b[43mpos_class\u001b[49m\u001b[38;5;241;43m=\u001b[39;49m\u001b[43mclass_\u001b[49m\u001b[43m,\u001b[49m\n\u001b[0;32m   1598\u001b[0m \u001b[43m        \u001b[49m\u001b[43mCs\u001b[49m\u001b[38;5;241;43m=\u001b[39;49m\u001b[43m[\u001b[49m\u001b[43mC_\u001b[49m\u001b[43m]\u001b[49m\u001b[43m,\u001b[49m\n\u001b[0;32m   1599\u001b[0m \u001b[43m        \u001b[49m\u001b[43ml1_ratio\u001b[49m\u001b[38;5;241;43m=\u001b[39;49m\u001b[38;5;28;43mself\u001b[39;49m\u001b[38;5;241;43m.\u001b[39;49m\u001b[43ml1_ratio\u001b[49m\u001b[43m,\u001b[49m\n\u001b[0;32m   1600\u001b[0m \u001b[43m        \u001b[49m\u001b[43mfit_intercept\u001b[49m\u001b[38;5;241;43m=\u001b[39;49m\u001b[38;5;28;43mself\u001b[39;49m\u001b[38;5;241;43m.\u001b[39;49m\u001b[43mfit_intercept\u001b[49m\u001b[43m,\u001b[49m\n\u001b[0;32m   1601\u001b[0m \u001b[43m        \u001b[49m\u001b[43mtol\u001b[49m\u001b[38;5;241;43m=\u001b[39;49m\u001b[38;5;28;43mself\u001b[39;49m\u001b[38;5;241;43m.\u001b[39;49m\u001b[43mtol\u001b[49m\u001b[43m,\u001b[49m\n\u001b[0;32m   1602\u001b[0m \u001b[43m        \u001b[49m\u001b[43mverbose\u001b[49m\u001b[38;5;241;43m=\u001b[39;49m\u001b[38;5;28;43mself\u001b[39;49m\u001b[38;5;241;43m.\u001b[39;49m\u001b[43mverbose\u001b[49m\u001b[43m,\u001b[49m\n\u001b[0;32m   1603\u001b[0m \u001b[43m        \u001b[49m\u001b[43msolver\u001b[49m\u001b[38;5;241;43m=\u001b[39;49m\u001b[43msolver\u001b[49m\u001b[43m,\u001b[49m\n\u001b[0;32m   1604\u001b[0m \u001b[43m        \u001b[49m\u001b[43mmulti_class\u001b[49m\u001b[38;5;241;43m=\u001b[39;49m\u001b[43mmulti_class\u001b[49m\u001b[43m,\u001b[49m\n\u001b[0;32m   1605\u001b[0m \u001b[43m        \u001b[49m\u001b[43mmax_iter\u001b[49m\u001b[38;5;241;43m=\u001b[39;49m\u001b[38;5;28;43mself\u001b[39;49m\u001b[38;5;241;43m.\u001b[39;49m\u001b[43mmax_iter\u001b[49m\u001b[43m,\u001b[49m\n\u001b[0;32m   1606\u001b[0m \u001b[43m        \u001b[49m\u001b[43mclass_weight\u001b[49m\u001b[38;5;241;43m=\u001b[39;49m\u001b[38;5;28;43mself\u001b[39;49m\u001b[38;5;241;43m.\u001b[39;49m\u001b[43mclass_weight\u001b[49m\u001b[43m,\u001b[49m\n\u001b[0;32m   1607\u001b[0m \u001b[43m        \u001b[49m\u001b[43mcheck_input\u001b[49m\u001b[38;5;241;43m=\u001b[39;49m\u001b[38;5;28;43;01mFalse\u001b[39;49;00m\u001b[43m,\u001b[49m\n\u001b[0;32m   1608\u001b[0m \u001b[43m        \u001b[49m\u001b[43mrandom_state\u001b[49m\u001b[38;5;241;43m=\u001b[39;49m\u001b[38;5;28;43mself\u001b[39;49m\u001b[38;5;241;43m.\u001b[39;49m\u001b[43mrandom_state\u001b[49m\u001b[43m,\u001b[49m\n\u001b[0;32m   1609\u001b[0m \u001b[43m        \u001b[49m\u001b[43mcoef\u001b[49m\u001b[38;5;241;43m=\u001b[39;49m\u001b[43mwarm_start_coef_\u001b[49m\u001b[43m,\u001b[49m\n\u001b[0;32m   1610\u001b[0m \u001b[43m        \u001b[49m\u001b[43mpenalty\u001b[49m\u001b[38;5;241;43m=\u001b[39;49m\u001b[43mpenalty\u001b[49m\u001b[43m,\u001b[49m\n\u001b[0;32m   1611\u001b[0m \u001b[43m        \u001b[49m\u001b[43mmax_squared_sum\u001b[49m\u001b[38;5;241;43m=\u001b[39;49m\u001b[43mmax_squared_sum\u001b[49m\u001b[43m,\u001b[49m\n\u001b[0;32m   1612\u001b[0m \u001b[43m        \u001b[49m\u001b[43msample_weight\u001b[49m\u001b[38;5;241;43m=\u001b[39;49m\u001b[43msample_weight\u001b[49m\u001b[43m,\u001b[49m\n\u001b[0;32m   1613\u001b[0m \u001b[43m    \u001b[49m\u001b[43m)\u001b[49m\n\u001b[0;32m   1614\u001b[0m \u001b[43m    \u001b[49m\u001b[38;5;28;43;01mfor\u001b[39;49;00m\u001b[43m \u001b[49m\u001b[43mclass_\u001b[49m\u001b[43m,\u001b[49m\u001b[43m \u001b[49m\u001b[43mwarm_start_coef_\u001b[49m\u001b[43m \u001b[49m\u001b[38;5;129;43;01min\u001b[39;49;00m\u001b[43m \u001b[49m\u001b[38;5;28;43mzip\u001b[39;49m\u001b[43m(\u001b[49m\u001b[43mclasses_\u001b[49m\u001b[43m,\u001b[49m\u001b[43m \u001b[49m\u001b[43mwarm_start_coef\u001b[49m\u001b[43m)\u001b[49m\n\u001b[0;32m   1615\u001b[0m \u001b[43m\u001b[49m\u001b[43m)\u001b[49m\n\u001b[0;32m   1617\u001b[0m fold_coefs_, _, n_iter_ \u001b[38;5;241m=\u001b[39m \u001b[38;5;28mzip\u001b[39m(\u001b[38;5;241m*\u001b[39mfold_coefs_)\n\u001b[0;32m   1618\u001b[0m \u001b[38;5;28mself\u001b[39m\u001b[38;5;241m.\u001b[39mn_iter_ \u001b[38;5;241m=\u001b[39m np\u001b[38;5;241m.\u001b[39masarray(n_iter_, dtype\u001b[38;5;241m=\u001b[39mnp\u001b[38;5;241m.\u001b[39mint32)[:, \u001b[38;5;241m0\u001b[39m]\n",
      "File \u001b[1;32mC:\\ProgramData\\Anaconda3\\lib\\site-packages\\joblib\\parallel.py:1043\u001b[0m, in \u001b[0;36mParallel.__call__\u001b[1;34m(self, iterable)\u001b[0m\n\u001b[0;32m   1034\u001b[0m \u001b[38;5;28;01mtry\u001b[39;00m:\n\u001b[0;32m   1035\u001b[0m     \u001b[38;5;66;03m# Only set self._iterating to True if at least a batch\u001b[39;00m\n\u001b[0;32m   1036\u001b[0m     \u001b[38;5;66;03m# was dispatched. In particular this covers the edge\u001b[39;00m\n\u001b[1;32m   (...)\u001b[0m\n\u001b[0;32m   1040\u001b[0m     \u001b[38;5;66;03m# was very quick and its callback already dispatched all the\u001b[39;00m\n\u001b[0;32m   1041\u001b[0m     \u001b[38;5;66;03m# remaining jobs.\u001b[39;00m\n\u001b[0;32m   1042\u001b[0m     \u001b[38;5;28mself\u001b[39m\u001b[38;5;241m.\u001b[39m_iterating \u001b[38;5;241m=\u001b[39m \u001b[38;5;28;01mFalse\u001b[39;00m\n\u001b[1;32m-> 1043\u001b[0m     \u001b[38;5;28;01mif\u001b[39;00m \u001b[38;5;28;43mself\u001b[39;49m\u001b[38;5;241;43m.\u001b[39;49m\u001b[43mdispatch_one_batch\u001b[49m\u001b[43m(\u001b[49m\u001b[43miterator\u001b[49m\u001b[43m)\u001b[49m:\n\u001b[0;32m   1044\u001b[0m         \u001b[38;5;28mself\u001b[39m\u001b[38;5;241m.\u001b[39m_iterating \u001b[38;5;241m=\u001b[39m \u001b[38;5;28mself\u001b[39m\u001b[38;5;241m.\u001b[39m_original_iterator \u001b[38;5;129;01mis\u001b[39;00m \u001b[38;5;129;01mnot\u001b[39;00m \u001b[38;5;28;01mNone\u001b[39;00m\n\u001b[0;32m   1046\u001b[0m     \u001b[38;5;28;01mwhile\u001b[39;00m \u001b[38;5;28mself\u001b[39m\u001b[38;5;241m.\u001b[39mdispatch_one_batch(iterator):\n",
      "File \u001b[1;32mC:\\ProgramData\\Anaconda3\\lib\\site-packages\\joblib\\parallel.py:861\u001b[0m, in \u001b[0;36mParallel.dispatch_one_batch\u001b[1;34m(self, iterator)\u001b[0m\n\u001b[0;32m    859\u001b[0m     \u001b[38;5;28;01mreturn\u001b[39;00m \u001b[38;5;28;01mFalse\u001b[39;00m\n\u001b[0;32m    860\u001b[0m \u001b[38;5;28;01melse\u001b[39;00m:\n\u001b[1;32m--> 861\u001b[0m     \u001b[38;5;28;43mself\u001b[39;49m\u001b[38;5;241;43m.\u001b[39;49m\u001b[43m_dispatch\u001b[49m\u001b[43m(\u001b[49m\u001b[43mtasks\u001b[49m\u001b[43m)\u001b[49m\n\u001b[0;32m    862\u001b[0m     \u001b[38;5;28;01mreturn\u001b[39;00m \u001b[38;5;28;01mTrue\u001b[39;00m\n",
      "File \u001b[1;32mC:\\ProgramData\\Anaconda3\\lib\\site-packages\\joblib\\parallel.py:779\u001b[0m, in \u001b[0;36mParallel._dispatch\u001b[1;34m(self, batch)\u001b[0m\n\u001b[0;32m    777\u001b[0m \u001b[38;5;28;01mwith\u001b[39;00m \u001b[38;5;28mself\u001b[39m\u001b[38;5;241m.\u001b[39m_lock:\n\u001b[0;32m    778\u001b[0m     job_idx \u001b[38;5;241m=\u001b[39m \u001b[38;5;28mlen\u001b[39m(\u001b[38;5;28mself\u001b[39m\u001b[38;5;241m.\u001b[39m_jobs)\n\u001b[1;32m--> 779\u001b[0m     job \u001b[38;5;241m=\u001b[39m \u001b[38;5;28;43mself\u001b[39;49m\u001b[38;5;241;43m.\u001b[39;49m\u001b[43m_backend\u001b[49m\u001b[38;5;241;43m.\u001b[39;49m\u001b[43mapply_async\u001b[49m\u001b[43m(\u001b[49m\u001b[43mbatch\u001b[49m\u001b[43m,\u001b[49m\u001b[43m \u001b[49m\u001b[43mcallback\u001b[49m\u001b[38;5;241;43m=\u001b[39;49m\u001b[43mcb\u001b[49m\u001b[43m)\u001b[49m\n\u001b[0;32m    780\u001b[0m     \u001b[38;5;66;03m# A job can complete so quickly than its callback is\u001b[39;00m\n\u001b[0;32m    781\u001b[0m     \u001b[38;5;66;03m# called before we get here, causing self._jobs to\u001b[39;00m\n\u001b[0;32m    782\u001b[0m     \u001b[38;5;66;03m# grow. To ensure correct results ordering, .insert is\u001b[39;00m\n\u001b[0;32m    783\u001b[0m     \u001b[38;5;66;03m# used (rather than .append) in the following line\u001b[39;00m\n\u001b[0;32m    784\u001b[0m     \u001b[38;5;28mself\u001b[39m\u001b[38;5;241m.\u001b[39m_jobs\u001b[38;5;241m.\u001b[39minsert(job_idx, job)\n",
      "File \u001b[1;32mC:\\ProgramData\\Anaconda3\\lib\\site-packages\\joblib\\_parallel_backends.py:208\u001b[0m, in \u001b[0;36mSequentialBackend.apply_async\u001b[1;34m(self, func, callback)\u001b[0m\n\u001b[0;32m    206\u001b[0m \u001b[38;5;28;01mdef\u001b[39;00m \u001b[38;5;21mapply_async\u001b[39m(\u001b[38;5;28mself\u001b[39m, func, callback\u001b[38;5;241m=\u001b[39m\u001b[38;5;28;01mNone\u001b[39;00m):\n\u001b[0;32m    207\u001b[0m     \u001b[38;5;124;03m\"\"\"Schedule a func to be run\"\"\"\u001b[39;00m\n\u001b[1;32m--> 208\u001b[0m     result \u001b[38;5;241m=\u001b[39m \u001b[43mImmediateResult\u001b[49m\u001b[43m(\u001b[49m\u001b[43mfunc\u001b[49m\u001b[43m)\u001b[49m\n\u001b[0;32m    209\u001b[0m     \u001b[38;5;28;01mif\u001b[39;00m callback:\n\u001b[0;32m    210\u001b[0m         callback(result)\n",
      "File \u001b[1;32mC:\\ProgramData\\Anaconda3\\lib\\site-packages\\joblib\\_parallel_backends.py:572\u001b[0m, in \u001b[0;36mImmediateResult.__init__\u001b[1;34m(self, batch)\u001b[0m\n\u001b[0;32m    569\u001b[0m \u001b[38;5;28;01mdef\u001b[39;00m \u001b[38;5;21m__init__\u001b[39m(\u001b[38;5;28mself\u001b[39m, batch):\n\u001b[0;32m    570\u001b[0m     \u001b[38;5;66;03m# Don't delay the application, to avoid keeping the input\u001b[39;00m\n\u001b[0;32m    571\u001b[0m     \u001b[38;5;66;03m# arguments in memory\u001b[39;00m\n\u001b[1;32m--> 572\u001b[0m     \u001b[38;5;28mself\u001b[39m\u001b[38;5;241m.\u001b[39mresults \u001b[38;5;241m=\u001b[39m \u001b[43mbatch\u001b[49m\u001b[43m(\u001b[49m\u001b[43m)\u001b[49m\n",
      "File \u001b[1;32mC:\\ProgramData\\Anaconda3\\lib\\site-packages\\joblib\\parallel.py:262\u001b[0m, in \u001b[0;36mBatchedCalls.__call__\u001b[1;34m(self)\u001b[0m\n\u001b[0;32m    258\u001b[0m \u001b[38;5;28;01mdef\u001b[39;00m \u001b[38;5;21m__call__\u001b[39m(\u001b[38;5;28mself\u001b[39m):\n\u001b[0;32m    259\u001b[0m     \u001b[38;5;66;03m# Set the default nested backend to self._backend but do not set the\u001b[39;00m\n\u001b[0;32m    260\u001b[0m     \u001b[38;5;66;03m# change the default number of processes to -1\u001b[39;00m\n\u001b[0;32m    261\u001b[0m     \u001b[38;5;28;01mwith\u001b[39;00m parallel_backend(\u001b[38;5;28mself\u001b[39m\u001b[38;5;241m.\u001b[39m_backend, n_jobs\u001b[38;5;241m=\u001b[39m\u001b[38;5;28mself\u001b[39m\u001b[38;5;241m.\u001b[39m_n_jobs):\n\u001b[1;32m--> 262\u001b[0m         \u001b[38;5;28;01mreturn\u001b[39;00m [func(\u001b[38;5;241m*\u001b[39margs, \u001b[38;5;241m*\u001b[39m\u001b[38;5;241m*\u001b[39mkwargs)\n\u001b[0;32m    263\u001b[0m                 \u001b[38;5;28;01mfor\u001b[39;00m func, args, kwargs \u001b[38;5;129;01min\u001b[39;00m \u001b[38;5;28mself\u001b[39m\u001b[38;5;241m.\u001b[39mitems]\n",
      "File \u001b[1;32mC:\\ProgramData\\Anaconda3\\lib\\site-packages\\joblib\\parallel.py:262\u001b[0m, in \u001b[0;36m<listcomp>\u001b[1;34m(.0)\u001b[0m\n\u001b[0;32m    258\u001b[0m \u001b[38;5;28;01mdef\u001b[39;00m \u001b[38;5;21m__call__\u001b[39m(\u001b[38;5;28mself\u001b[39m):\n\u001b[0;32m    259\u001b[0m     \u001b[38;5;66;03m# Set the default nested backend to self._backend but do not set the\u001b[39;00m\n\u001b[0;32m    260\u001b[0m     \u001b[38;5;66;03m# change the default number of processes to -1\u001b[39;00m\n\u001b[0;32m    261\u001b[0m     \u001b[38;5;28;01mwith\u001b[39;00m parallel_backend(\u001b[38;5;28mself\u001b[39m\u001b[38;5;241m.\u001b[39m_backend, n_jobs\u001b[38;5;241m=\u001b[39m\u001b[38;5;28mself\u001b[39m\u001b[38;5;241m.\u001b[39m_n_jobs):\n\u001b[1;32m--> 262\u001b[0m         \u001b[38;5;28;01mreturn\u001b[39;00m [func(\u001b[38;5;241m*\u001b[39margs, \u001b[38;5;241m*\u001b[39m\u001b[38;5;241m*\u001b[39mkwargs)\n\u001b[0;32m    263\u001b[0m                 \u001b[38;5;28;01mfor\u001b[39;00m func, args, kwargs \u001b[38;5;129;01min\u001b[39;00m \u001b[38;5;28mself\u001b[39m\u001b[38;5;241m.\u001b[39mitems]\n",
      "File \u001b[1;32mC:\\ProgramData\\Anaconda3\\lib\\site-packages\\sklearn\\utils\\fixes.py:216\u001b[0m, in \u001b[0;36m_FuncWrapper.__call__\u001b[1;34m(self, *args, **kwargs)\u001b[0m\n\u001b[0;32m    214\u001b[0m \u001b[38;5;28;01mdef\u001b[39;00m \u001b[38;5;21m__call__\u001b[39m(\u001b[38;5;28mself\u001b[39m, \u001b[38;5;241m*\u001b[39margs, \u001b[38;5;241m*\u001b[39m\u001b[38;5;241m*\u001b[39mkwargs):\n\u001b[0;32m    215\u001b[0m     \u001b[38;5;28;01mwith\u001b[39;00m config_context(\u001b[38;5;241m*\u001b[39m\u001b[38;5;241m*\u001b[39m\u001b[38;5;28mself\u001b[39m\u001b[38;5;241m.\u001b[39mconfig):\n\u001b[1;32m--> 216\u001b[0m         \u001b[38;5;28;01mreturn\u001b[39;00m \u001b[38;5;28mself\u001b[39m\u001b[38;5;241m.\u001b[39mfunction(\u001b[38;5;241m*\u001b[39margs, \u001b[38;5;241m*\u001b[39m\u001b[38;5;241m*\u001b[39mkwargs)\n",
      "File \u001b[1;32mC:\\ProgramData\\Anaconda3\\lib\\site-packages\\sklearn\\linear_model\\_logistic.py:714\u001b[0m, in \u001b[0;36m_logistic_regression_path\u001b[1;34m(X, y, pos_class, Cs, fit_intercept, max_iter, tol, verbose, solver, coef, class_weight, dual, penalty, intercept_scaling, multi_class, random_state, check_input, max_squared_sum, sample_weight, l1_ratio)\u001b[0m\n\u001b[0;32m    712\u001b[0m \u001b[38;5;28;01mif\u001b[39;00m solver \u001b[38;5;129;01mnot\u001b[39;00m \u001b[38;5;129;01min\u001b[39;00m [\u001b[38;5;124m\"\u001b[39m\u001b[38;5;124msag\u001b[39m\u001b[38;5;124m\"\u001b[39m, \u001b[38;5;124m\"\u001b[39m\u001b[38;5;124msaga\u001b[39m\u001b[38;5;124m\"\u001b[39m]:\n\u001b[0;32m    713\u001b[0m     lbin \u001b[38;5;241m=\u001b[39m LabelBinarizer()\n\u001b[1;32m--> 714\u001b[0m     Y_multi \u001b[38;5;241m=\u001b[39m \u001b[43mlbin\u001b[49m\u001b[38;5;241;43m.\u001b[39;49m\u001b[43mfit_transform\u001b[49m\u001b[43m(\u001b[49m\u001b[43my\u001b[49m\u001b[43m)\u001b[49m\n\u001b[0;32m    715\u001b[0m     \u001b[38;5;28;01mif\u001b[39;00m Y_multi\u001b[38;5;241m.\u001b[39mshape[\u001b[38;5;241m1\u001b[39m] \u001b[38;5;241m==\u001b[39m \u001b[38;5;241m1\u001b[39m:\n\u001b[0;32m    716\u001b[0m         Y_multi \u001b[38;5;241m=\u001b[39m np\u001b[38;5;241m.\u001b[39mhstack([\u001b[38;5;241m1\u001b[39m \u001b[38;5;241m-\u001b[39m Y_multi, Y_multi])\n",
      "File \u001b[1;32mC:\\ProgramData\\Anaconda3\\lib\\site-packages\\sklearn\\preprocessing\\_label.py:324\u001b[0m, in \u001b[0;36mLabelBinarizer.fit_transform\u001b[1;34m(self, y)\u001b[0m\n\u001b[0;32m    304\u001b[0m \u001b[38;5;28;01mdef\u001b[39;00m \u001b[38;5;21mfit_transform\u001b[39m(\u001b[38;5;28mself\u001b[39m, y):\n\u001b[0;32m    305\u001b[0m     \u001b[38;5;124;03m\"\"\"Fit label binarizer/transform multi-class labels to binary labels.\u001b[39;00m\n\u001b[0;32m    306\u001b[0m \n\u001b[0;32m    307\u001b[0m \u001b[38;5;124;03m    The output of transform is sometimes referred to as\u001b[39;00m\n\u001b[1;32m   (...)\u001b[0m\n\u001b[0;32m    322\u001b[0m \u001b[38;5;124;03m        will be of CSR format.\u001b[39;00m\n\u001b[0;32m    323\u001b[0m \u001b[38;5;124;03m    \"\"\"\u001b[39;00m\n\u001b[1;32m--> 324\u001b[0m     \u001b[38;5;28;01mreturn\u001b[39;00m \u001b[38;5;28;43mself\u001b[39;49m\u001b[38;5;241;43m.\u001b[39;49m\u001b[43mfit\u001b[49m\u001b[43m(\u001b[49m\u001b[43my\u001b[49m\u001b[43m)\u001b[49m\u001b[38;5;241;43m.\u001b[39;49m\u001b[43mtransform\u001b[49m\u001b[43m(\u001b[49m\u001b[43my\u001b[49m\u001b[43m)\u001b[49m\n",
      "File \u001b[1;32mC:\\ProgramData\\Anaconda3\\lib\\site-packages\\sklearn\\preprocessing\\_label.py:352\u001b[0m, in \u001b[0;36mLabelBinarizer.transform\u001b[1;34m(self, y)\u001b[0m\n\u001b[0;32m    349\u001b[0m \u001b[38;5;28;01mif\u001b[39;00m y_is_multilabel \u001b[38;5;129;01mand\u001b[39;00m \u001b[38;5;129;01mnot\u001b[39;00m \u001b[38;5;28mself\u001b[39m\u001b[38;5;241m.\u001b[39my_type_\u001b[38;5;241m.\u001b[39mstartswith(\u001b[38;5;124m\"\u001b[39m\u001b[38;5;124mmultilabel\u001b[39m\u001b[38;5;124m\"\u001b[39m):\n\u001b[0;32m    350\u001b[0m     \u001b[38;5;28;01mraise\u001b[39;00m \u001b[38;5;167;01mValueError\u001b[39;00m(\u001b[38;5;124m\"\u001b[39m\u001b[38;5;124mThe object was not fitted with multilabel input.\u001b[39m\u001b[38;5;124m\"\u001b[39m)\n\u001b[1;32m--> 352\u001b[0m \u001b[38;5;28;01mreturn\u001b[39;00m \u001b[43mlabel_binarize\u001b[49m\u001b[43m(\u001b[49m\n\u001b[0;32m    353\u001b[0m \u001b[43m    \u001b[49m\u001b[43my\u001b[49m\u001b[43m,\u001b[49m\n\u001b[0;32m    354\u001b[0m \u001b[43m    \u001b[49m\u001b[43mclasses\u001b[49m\u001b[38;5;241;43m=\u001b[39;49m\u001b[38;5;28;43mself\u001b[39;49m\u001b[38;5;241;43m.\u001b[39;49m\u001b[43mclasses_\u001b[49m\u001b[43m,\u001b[49m\n\u001b[0;32m    355\u001b[0m \u001b[43m    \u001b[49m\u001b[43mpos_label\u001b[49m\u001b[38;5;241;43m=\u001b[39;49m\u001b[38;5;28;43mself\u001b[39;49m\u001b[38;5;241;43m.\u001b[39;49m\u001b[43mpos_label\u001b[49m\u001b[43m,\u001b[49m\n\u001b[0;32m    356\u001b[0m \u001b[43m    \u001b[49m\u001b[43mneg_label\u001b[49m\u001b[38;5;241;43m=\u001b[39;49m\u001b[38;5;28;43mself\u001b[39;49m\u001b[38;5;241;43m.\u001b[39;49m\u001b[43mneg_label\u001b[49m\u001b[43m,\u001b[49m\n\u001b[0;32m    357\u001b[0m \u001b[43m    \u001b[49m\u001b[43msparse_output\u001b[49m\u001b[38;5;241;43m=\u001b[39;49m\u001b[38;5;28;43mself\u001b[39;49m\u001b[38;5;241;43m.\u001b[39;49m\u001b[43msparse_output\u001b[49m\u001b[43m,\u001b[49m\n\u001b[0;32m    358\u001b[0m \u001b[43m\u001b[49m\u001b[43m)\u001b[49m\n",
      "File \u001b[1;32mC:\\ProgramData\\Anaconda3\\lib\\site-packages\\sklearn\\preprocessing\\_label.py:559\u001b[0m, in \u001b[0;36mlabel_binarize\u001b[1;34m(y, classes, neg_label, pos_label, sparse_output)\u001b[0m\n\u001b[0;32m    554\u001b[0m     \u001b[38;5;28;01mraise\u001b[39;00m \u001b[38;5;167;01mValueError\u001b[39;00m(\n\u001b[0;32m    555\u001b[0m         \u001b[38;5;124m\"\u001b[39m\u001b[38;5;132;01m%s\u001b[39;00m\u001b[38;5;124m target data is not supported with label binarization\u001b[39m\u001b[38;5;124m\"\u001b[39m \u001b[38;5;241m%\u001b[39m y_type\n\u001b[0;32m    556\u001b[0m     )\n\u001b[0;32m    558\u001b[0m \u001b[38;5;28;01mif\u001b[39;00m \u001b[38;5;129;01mnot\u001b[39;00m sparse_output:\n\u001b[1;32m--> 559\u001b[0m     Y \u001b[38;5;241m=\u001b[39m \u001b[43mY\u001b[49m\u001b[38;5;241;43m.\u001b[39;49m\u001b[43mtoarray\u001b[49m\u001b[43m(\u001b[49m\u001b[43m)\u001b[49m\n\u001b[0;32m    560\u001b[0m     Y \u001b[38;5;241m=\u001b[39m Y\u001b[38;5;241m.\u001b[39mastype(\u001b[38;5;28mint\u001b[39m, copy\u001b[38;5;241m=\u001b[39m\u001b[38;5;28;01mFalse\u001b[39;00m)\n\u001b[0;32m    562\u001b[0m     \u001b[38;5;28;01mif\u001b[39;00m neg_label \u001b[38;5;241m!=\u001b[39m \u001b[38;5;241m0\u001b[39m:\n",
      "File \u001b[1;32mC:\\ProgramData\\Anaconda3\\lib\\site-packages\\scipy\\sparse\\compressed.py:1039\u001b[0m, in \u001b[0;36m_cs_matrix.toarray\u001b[1;34m(self, order, out)\u001b[0m\n\u001b[0;32m   1037\u001b[0m \u001b[38;5;28;01mif\u001b[39;00m out \u001b[38;5;129;01mis\u001b[39;00m \u001b[38;5;28;01mNone\u001b[39;00m \u001b[38;5;129;01mand\u001b[39;00m order \u001b[38;5;129;01mis\u001b[39;00m \u001b[38;5;28;01mNone\u001b[39;00m:\n\u001b[0;32m   1038\u001b[0m     order \u001b[38;5;241m=\u001b[39m \u001b[38;5;28mself\u001b[39m\u001b[38;5;241m.\u001b[39m_swap(\u001b[38;5;124m'\u001b[39m\u001b[38;5;124mcf\u001b[39m\u001b[38;5;124m'\u001b[39m)[\u001b[38;5;241m0\u001b[39m]\n\u001b[1;32m-> 1039\u001b[0m out \u001b[38;5;241m=\u001b[39m \u001b[38;5;28;43mself\u001b[39;49m\u001b[38;5;241;43m.\u001b[39;49m\u001b[43m_process_toarray_args\u001b[49m\u001b[43m(\u001b[49m\u001b[43morder\u001b[49m\u001b[43m,\u001b[49m\u001b[43m \u001b[49m\u001b[43mout\u001b[49m\u001b[43m)\u001b[49m\n\u001b[0;32m   1040\u001b[0m \u001b[38;5;28;01mif\u001b[39;00m \u001b[38;5;129;01mnot\u001b[39;00m (out\u001b[38;5;241m.\u001b[39mflags\u001b[38;5;241m.\u001b[39mc_contiguous \u001b[38;5;129;01mor\u001b[39;00m out\u001b[38;5;241m.\u001b[39mflags\u001b[38;5;241m.\u001b[39mf_contiguous):\n\u001b[0;32m   1041\u001b[0m     \u001b[38;5;28;01mraise\u001b[39;00m \u001b[38;5;167;01mValueError\u001b[39;00m(\u001b[38;5;124m'\u001b[39m\u001b[38;5;124mOutput array must be C or F contiguous\u001b[39m\u001b[38;5;124m'\u001b[39m)\n",
      "File \u001b[1;32mC:\\ProgramData\\Anaconda3\\lib\\site-packages\\scipy\\sparse\\base.py:1202\u001b[0m, in \u001b[0;36mspmatrix._process_toarray_args\u001b[1;34m(self, order, out)\u001b[0m\n\u001b[0;32m   1200\u001b[0m     \u001b[38;5;28;01mreturn\u001b[39;00m out\n\u001b[0;32m   1201\u001b[0m \u001b[38;5;28;01melse\u001b[39;00m:\n\u001b[1;32m-> 1202\u001b[0m     \u001b[38;5;28;01mreturn\u001b[39;00m \u001b[43mnp\u001b[49m\u001b[38;5;241;43m.\u001b[39;49m\u001b[43mzeros\u001b[49m\u001b[43m(\u001b[49m\u001b[38;5;28;43mself\u001b[39;49m\u001b[38;5;241;43m.\u001b[39;49m\u001b[43mshape\u001b[49m\u001b[43m,\u001b[49m\u001b[43m \u001b[49m\u001b[43mdtype\u001b[49m\u001b[38;5;241;43m=\u001b[39;49m\u001b[38;5;28;43mself\u001b[39;49m\u001b[38;5;241;43m.\u001b[39;49m\u001b[43mdtype\u001b[49m\u001b[43m,\u001b[49m\u001b[43m \u001b[49m\u001b[43morder\u001b[49m\u001b[38;5;241;43m=\u001b[39;49m\u001b[43morder\u001b[49m\u001b[43m)\u001b[49m\n",
      "\u001b[1;31mMemoryError\u001b[0m: Unable to allocate 40.1 GiB for an array with shape (303548, 17713) and data type int64"
     ]
    }
   ],
   "source": [
    "lr = LogisticRegression()\n",
    "\n",
    "lr.fit(X_train, y_train)\n",
    "preds = lr.predict(X_test)\n",
    "\n",
    "score = lr.score(X_test, y_test)\n",
    "print(score*100)\n",
    "print()\n",
    "print(classification_report(y_test, preds))"
   ]
  },
  {
   "cell_type": "code",
   "execution_count": 76,
   "id": "d28a48bd",
   "metadata": {},
   "outputs": [],
   "source": [
    "from sklearn.linear_model import LinearRegression\n",
    "from sklearn.model_selection import train_test_split\n",
    "from sklearn.linear_model import LinearRegression\n",
    "from sklearn.metrics import mean_absolute_error, mean_squared_error, r2_score"
   ]
  },
  {
   "cell_type": "code",
   "execution_count": 70,
   "id": "4b1e0cc8",
   "metadata": {},
   "outputs": [
    {
     "data": {
      "text/plain": [
       "LinearRegression()"
      ]
     },
     "execution_count": 70,
     "metadata": {},
     "output_type": "execute_result"
    }
   ],
   "source": [
    "line_fitter = LinearRegression()\n",
    "line_fitter.fit(X, y)"
   ]
  },
  {
   "cell_type": "code",
   "execution_count": 90,
   "id": "d7cbae2c",
   "metadata": {},
   "outputs": [],
   "source": [
    "y_predicted = line_fitter.predict(X_test)"
   ]
  },
  {
   "cell_type": "code",
   "execution_count": 91,
   "id": "0aeec5df",
   "metadata": {},
   "outputs": [
    {
     "name": "stdout",
     "output_type": "stream",
     "text": [
      "[[6135.21011296]\n",
      " [8430.23216083]\n",
      " [8282.19370182]\n",
      " ...\n",
      " [8159.48118853]\n",
      " [8171.10066475]\n",
      " [6540.43408782]]\n"
     ]
    }
   ],
   "source": [
    "print(y_predicted)"
   ]
  },
  {
   "cell_type": "code",
   "execution_count": 92,
   "id": "94111d76",
   "metadata": {},
   "outputs": [
    {
     "name": "stdout",
     "output_type": "stream",
     "text": [
      "[687.81516728]\n",
      "[[ 2.82026122e-02 -1.30270813e+02  5.96653222e+03  2.01287722e+03]]\n"
     ]
    }
   ],
   "source": [
    "#절편을 출력합니다:\n",
    "print(line_fitter.intercept_)\n",
    "#기울기를 출력합니다:\n",
    "print(line_fitter.coef_)"
   ]
  },
  {
   "cell_type": "code",
   "execution_count": 93,
   "id": "8de72cd5",
   "metadata": {},
   "outputs": [
    {
     "name": "stdout",
     "output_type": "stream",
     "text": [
      "75888\n",
      "75888\n"
     ]
    }
   ],
   "source": [
    "print(len(y_test))\n",
    "print(len(y_predicted))"
   ]
  },
  {
   "cell_type": "code",
   "execution_count": 94,
   "id": "5b205507",
   "metadata": {},
   "outputs": [
    {
     "name": "stdout",
     "output_type": "stream",
     "text": [
      "Linear Regression Score\n",
      "Mean Absolute Error:  1811.4024630343833\n",
      "Mean Squared Error:  7132000.614908523\n",
      "R2:  0.5366379802524954\n"
     ]
    }
   ],
   "source": [
    "print (\"Linear Regression Score\")\n",
    "predict = line_fitter.predict(X_test)\n",
    "print (\"Mean Absolute Error: \", mean_absolute_error(y_test,y_predicted))\n",
    "print (\"Mean Squared Error: \", mean_squared_error(y_test,y_predicted))\n",
    "print (\"R2: \", r2_score(y_test,y_predicted))"
   ]
  },
  {
   "cell_type": "markdown",
   "id": "ccc6e22d",
   "metadata": {},
   "source": [
    "### ridge regression"
   ]
  },
  {
   "cell_type": "code",
   "execution_count": 95,
   "id": "3e0196a3",
   "metadata": {},
   "outputs": [],
   "source": [
    "from sklearn.linear_model import LogisticRegression\n",
    "from sklearn.linear_model import Ridge\n"
   ]
  },
  {
   "cell_type": "code",
   "execution_count": 96,
   "id": "845c66a9",
   "metadata": {},
   "outputs": [
    {
     "data": {
      "text/plain": [
       "Ridge()"
      ]
     },
     "execution_count": 96,
     "metadata": {},
     "output_type": "execute_result"
    }
   ],
   "source": [
    "ridge = Ridge()\n",
    "ridge.fit(X_train, y_train)"
   ]
  },
  {
   "cell_type": "code",
   "execution_count": 98,
   "id": "491a8f85",
   "metadata": {},
   "outputs": [
    {
     "name": "stdout",
     "output_type": "stream",
     "text": [
      "lr.coef_: [[ 3.43487476e-02 -1.30178630e+02  5.96721064e+03  2.01037133e+03]]\n",
      "lr.intercept_ : [683.67984454]\n"
     ]
    }
   ],
   "source": [
    "y_pred_ridge=ridge.predict(X_test)\n",
    "print(\"lr.coef_: {}\".format(ridge.coef_))\n",
    "print(\"lr.intercept_ : {}\".format(ridge.intercept_))"
   ]
  },
  {
   "cell_type": "code",
   "execution_count": 99,
   "id": "7cd14b65",
   "metadata": {},
   "outputs": [
    {
     "name": "stdout",
     "output_type": "stream",
     "text": [
      "Linear Regression Score\n",
      "Mean Absolute Error:  1811.2874664518195\n",
      "Mean Squared Error:  7132055.070557587\n",
      "R2:  0.5366344422999769\n"
     ]
    }
   ],
   "source": [
    "print (\"Linear Regression Score\")\n",
    "ridge_predict = ridge.predict(X_test)\n",
    "print (\"Mean Absolute Error: \", mean_absolute_error(y_test,y_pred_ridge))\n",
    "print (\"Mean Squared Error: \", mean_squared_error(y_test,y_pred_ridge))\n",
    "print (\"R2: \", r2_score(y_test,y_pred_ridge))"
   ]
  },
  {
   "cell_type": "code",
   "execution_count": 102,
   "id": "69fad01f",
   "metadata": {
    "scrolled": true
   },
   "outputs": [
    {
     "name": "stdout",
     "output_type": "stream",
     "text": [
      "\n",
      "MSE : 7132055.071, RMSE : 2670.591\n",
      "\n",
      "\n",
      "r2 Variance score  0.537\n",
      "\n"
     ]
    }
   ],
   "source": [
    "mse = mean_squared_error(y_test, y_pred_ridge)\n",
    "rmse = np.sqrt(mse)\n",
    "print('\\nMSE : {0:.3f}, RMSE : {1:.3F}\\n'.format(mse, rmse))\n",
    "print('\\nr2 Variance score  {0:.3F}\\n'.format(r2_score(y_test, y_pred_ridge)))"
   ]
  },
  {
   "cell_type": "markdown",
   "id": "b3f93951",
   "metadata": {},
   "source": [
    "### LASSO"
   ]
  },
  {
   "cell_type": "code",
   "execution_count": 104,
   "id": "0bcd17f7",
   "metadata": {},
   "outputs": [],
   "source": [
    "from sklearn.linear_model import Lasso"
   ]
  },
  {
   "cell_type": "code",
   "execution_count": 105,
   "id": "df725fcc",
   "metadata": {},
   "outputs": [
    {
     "name": "stdout",
     "output_type": "stream",
     "text": [
      "lr.coef_: [ 3.43300013e-02 -1.31149029e+02  5.95896011e+03  2.00655172e+03]\n",
      "lr.intercept_ : [695.96672845]\n"
     ]
    }
   ],
   "source": [
    "lasso = Lasso().fit(X_train, y_train)\n",
    "y_pred_la=lasso.predict(X_test)\n",
    "print(\"lr.coef_: {}\".format(lasso.coef_))\n",
    "\n",
    "print(\"lr.intercept_ : {}\".format(lasso.intercept_))"
   ]
  },
  {
   "cell_type": "code",
   "execution_count": 106,
   "id": "99790d95",
   "metadata": {},
   "outputs": [
    {
     "name": "stdout",
     "output_type": "stream",
     "text": [
      "\n",
      "MSE : 7132083.605, RMSE : 2670.596\n",
      "\n",
      "\n",
      "r2 Variance score  0.537\n",
      "\n"
     ]
    }
   ],
   "source": [
    "mse = mean_squared_error(y_test, y_pred_la)\n",
    "rmse = np.sqrt(mse)\n",
    "print('\\nMSE : {0:.3f}, RMSE : {1:.3F}\\n'.format(mse, rmse))\n",
    "print('\\nr2 Variance score  {0:.3F}\\n'.format(r2_score(y_test, y_pred_la)))"
   ]
  },
  {
   "cell_type": "markdown",
   "id": "76efae7a",
   "metadata": {},
   "source": [
    "### 13 test.csv 파일로 판매량 예측하기 >> submission_000.csv 파일로 예측 판매량 제출 (본인이름)"
   ]
  },
  {
   "cell_type": "code",
   "execution_count": 107,
   "id": "ec149331",
   "metadata": {},
   "outputs": [
    {
     "data": {
      "text/plain": [
       "Index(['Store', 'DayOfWeek', 'Open', 'Promo'], dtype='object')"
      ]
     },
     "execution_count": 107,
     "metadata": {},
     "output_type": "execute_result"
    }
   ],
   "source": [
    "test.columns"
   ]
  },
  {
   "cell_type": "code",
   "execution_count": 108,
   "id": "b85724de",
   "metadata": {},
   "outputs": [
    {
     "name": "stdout",
     "output_type": "stream",
     "text": [
      "   Store  DayOfWeek       Date  Sales  Customers  Open  Promo  StateHoliday  \\\n",
      "0      1          5 2015-07-31   5263        555     1      1             1   \n",
      "1      1          4 2015-07-30   5020        546     1      1             1   \n",
      "2      1          3 2015-07-29   4782        523     1      1             1   \n",
      "3      1          2 2015-07-28   5011        560     1      1             1   \n",
      "4      1          1 2015-07-27   6102        612     1      1             1   \n",
      "\n",
      "   SchoolHoliday       spc  ...   Sales_Mean avg_customers  SalesPerCustomer  \\\n",
      "0              1  9.482883  ...  3884.122951     453.65847          8.509011   \n",
      "1              1  9.194139  ...  3884.122951     453.65847          8.509011   \n",
      "2              1  9.143403  ...  3884.122951     453.65847          8.509011   \n",
      "3              1  8.948214  ...  3884.122951     453.65847          8.509011   \n",
      "4              1  9.970588  ...  3884.122951     453.65847          8.509011   \n",
      "\n",
      "   Year  Weekday  Day  Month  Week MonthsCompetitionOpen  WeeksPromoOpen  \n",
      "0  2015        7   31      7    31                    82               0  \n",
      "1  2015        7   30      7    31                    82               0  \n",
      "2  2015        7   29      7    31                    82               0  \n",
      "3  2015        7   28      7    31                    82               0  \n",
      "4  2015        7   27      7    31                    82               0  \n",
      "\n",
      "[5 rows x 29 columns]\n",
      "<class 'pandas.core.frame.DataFrame'>\n",
      "RangeIndex: 41088 entries, 0 to 41087\n",
      "Data columns (total 4 columns):\n",
      " #   Column     Non-Null Count  Dtype  \n",
      "---  ------     --------------  -----  \n",
      " 0   Store      41088 non-null  int64  \n",
      " 1   DayOfWeek  41088 non-null  int64  \n",
      " 2   Open       41088 non-null  float64\n",
      " 3   Promo      41088 non-null  int64  \n",
      "dtypes: float64(1), int64(3)\n",
      "memory usage: 1.3 MB\n"
     ]
    }
   ],
   "source": [
    "print(train.head())\n",
    "test.info()"
   ]
  },
  {
   "cell_type": "code",
   "execution_count": 109,
   "id": "56ed46c6",
   "metadata": {},
   "outputs": [
    {
     "data": {
      "text/plain": [
       "array([8136.9167776 , 8136.9854376 , 8137.1227576 , ..., 5906.24195866,\n",
       "       5906.27628867, 5906.31061867])"
      ]
     },
     "execution_count": 109,
     "metadata": {},
     "output_type": "execute_result"
    }
   ],
   "source": [
    "y_pred_la=lasso.predict(test)\n",
    "y_pred_la\n"
   ]
  },
  {
   "cell_type": "code",
   "execution_count": 110,
   "id": "9eb00cab",
   "metadata": {},
   "outputs": [],
   "source": [
    "best=pd.DataFrame(y_pred_la)"
   ]
  },
  {
   "cell_type": "code",
   "execution_count": 111,
   "id": "f16d5284",
   "metadata": {},
   "outputs": [],
   "source": [
    "best.rename(columns = {0:'Sales'}, inplace =True)"
   ]
  },
  {
   "cell_type": "code",
   "execution_count": 112,
   "id": "e44db116",
   "metadata": {},
   "outputs": [
    {
     "data": {
      "text/html": [
       "<div>\n",
       "<style scoped>\n",
       "    .dataframe tbody tr th:only-of-type {\n",
       "        vertical-align: middle;\n",
       "    }\n",
       "\n",
       "    .dataframe tbody tr th {\n",
       "        vertical-align: top;\n",
       "    }\n",
       "\n",
       "    .dataframe thead th {\n",
       "        text-align: right;\n",
       "    }\n",
       "</style>\n",
       "<table border=\"1\" class=\"dataframe\">\n",
       "  <thead>\n",
       "    <tr style=\"text-align: right;\">\n",
       "      <th></th>\n",
       "      <th>Sales</th>\n",
       "    </tr>\n",
       "  </thead>\n",
       "  <tbody>\n",
       "    <tr>\n",
       "      <th>0</th>\n",
       "      <td>8136.916778</td>\n",
       "    </tr>\n",
       "    <tr>\n",
       "      <th>1</th>\n",
       "      <td>8136.985438</td>\n",
       "    </tr>\n",
       "    <tr>\n",
       "      <th>2</th>\n",
       "      <td>8137.122758</td>\n",
       "    </tr>\n",
       "    <tr>\n",
       "      <th>3</th>\n",
       "      <td>8137.157088</td>\n",
       "    </tr>\n",
       "    <tr>\n",
       "      <th>4</th>\n",
       "      <td>8137.191418</td>\n",
       "    </tr>\n",
       "    <tr>\n",
       "      <th>...</th>\n",
       "      <td>...</td>\n",
       "    </tr>\n",
       "    <tr>\n",
       "      <th>41083</th>\n",
       "      <td>5906.173299</td>\n",
       "    </tr>\n",
       "    <tr>\n",
       "      <th>41084</th>\n",
       "      <td>5906.207629</td>\n",
       "    </tr>\n",
       "    <tr>\n",
       "      <th>41085</th>\n",
       "      <td>5906.241959</td>\n",
       "    </tr>\n",
       "    <tr>\n",
       "      <th>41086</th>\n",
       "      <td>5906.276289</td>\n",
       "    </tr>\n",
       "    <tr>\n",
       "      <th>41087</th>\n",
       "      <td>5906.310619</td>\n",
       "    </tr>\n",
       "  </tbody>\n",
       "</table>\n",
       "<p>41088 rows × 1 columns</p>\n",
       "</div>"
      ],
      "text/plain": [
       "             Sales\n",
       "0      8136.916778\n",
       "1      8136.985438\n",
       "2      8137.122758\n",
       "3      8137.157088\n",
       "4      8137.191418\n",
       "...            ...\n",
       "41083  5906.173299\n",
       "41084  5906.207629\n",
       "41085  5906.241959\n",
       "41086  5906.276289\n",
       "41087  5906.310619\n",
       "\n",
       "[41088 rows x 1 columns]"
      ]
     },
     "execution_count": 112,
     "metadata": {},
     "output_type": "execute_result"
    }
   ],
   "source": [
    "best"
   ]
  },
  {
   "cell_type": "code",
   "execution_count": 113,
   "id": "d038cd06",
   "metadata": {},
   "outputs": [
    {
     "data": {
      "text/html": [
       "<div>\n",
       "<style scoped>\n",
       "    .dataframe tbody tr th:only-of-type {\n",
       "        vertical-align: middle;\n",
       "    }\n",
       "\n",
       "    .dataframe tbody tr th {\n",
       "        vertical-align: top;\n",
       "    }\n",
       "\n",
       "    .dataframe thead th {\n",
       "        text-align: right;\n",
       "    }\n",
       "</style>\n",
       "<table border=\"1\" class=\"dataframe\">\n",
       "  <thead>\n",
       "    <tr style=\"text-align: right;\">\n",
       "      <th></th>\n",
       "      <th>Store</th>\n",
       "      <th>DayOfWeek</th>\n",
       "      <th>Open</th>\n",
       "      <th>Promo</th>\n",
       "      <th>Sales</th>\n",
       "    </tr>\n",
       "  </thead>\n",
       "  <tbody>\n",
       "    <tr>\n",
       "      <th>0</th>\n",
       "      <td>1</td>\n",
       "      <td>4</td>\n",
       "      <td>1.0</td>\n",
       "      <td>1</td>\n",
       "      <td>8136.916778</td>\n",
       "    </tr>\n",
       "    <tr>\n",
       "      <th>1</th>\n",
       "      <td>3</td>\n",
       "      <td>4</td>\n",
       "      <td>1.0</td>\n",
       "      <td>1</td>\n",
       "      <td>8136.985438</td>\n",
       "    </tr>\n",
       "    <tr>\n",
       "      <th>2</th>\n",
       "      <td>7</td>\n",
       "      <td>4</td>\n",
       "      <td>1.0</td>\n",
       "      <td>1</td>\n",
       "      <td>8137.122758</td>\n",
       "    </tr>\n",
       "    <tr>\n",
       "      <th>3</th>\n",
       "      <td>8</td>\n",
       "      <td>4</td>\n",
       "      <td>1.0</td>\n",
       "      <td>1</td>\n",
       "      <td>8137.157088</td>\n",
       "    </tr>\n",
       "    <tr>\n",
       "      <th>4</th>\n",
       "      <td>9</td>\n",
       "      <td>4</td>\n",
       "      <td>1.0</td>\n",
       "      <td>1</td>\n",
       "      <td>8137.191418</td>\n",
       "    </tr>\n",
       "    <tr>\n",
       "      <th>...</th>\n",
       "      <td>...</td>\n",
       "      <td>...</td>\n",
       "      <td>...</td>\n",
       "      <td>...</td>\n",
       "      <td>...</td>\n",
       "    </tr>\n",
       "    <tr>\n",
       "      <th>41083</th>\n",
       "      <td>1111</td>\n",
       "      <td>6</td>\n",
       "      <td>1.0</td>\n",
       "      <td>0</td>\n",
       "      <td>5906.173299</td>\n",
       "    </tr>\n",
       "    <tr>\n",
       "      <th>41084</th>\n",
       "      <td>1112</td>\n",
       "      <td>6</td>\n",
       "      <td>1.0</td>\n",
       "      <td>0</td>\n",
       "      <td>5906.207629</td>\n",
       "    </tr>\n",
       "    <tr>\n",
       "      <th>41085</th>\n",
       "      <td>1113</td>\n",
       "      <td>6</td>\n",
       "      <td>1.0</td>\n",
       "      <td>0</td>\n",
       "      <td>5906.241959</td>\n",
       "    </tr>\n",
       "    <tr>\n",
       "      <th>41086</th>\n",
       "      <td>1114</td>\n",
       "      <td>6</td>\n",
       "      <td>1.0</td>\n",
       "      <td>0</td>\n",
       "      <td>5906.276289</td>\n",
       "    </tr>\n",
       "    <tr>\n",
       "      <th>41087</th>\n",
       "      <td>1115</td>\n",
       "      <td>6</td>\n",
       "      <td>1.0</td>\n",
       "      <td>0</td>\n",
       "      <td>5906.310619</td>\n",
       "    </tr>\n",
       "  </tbody>\n",
       "</table>\n",
       "<p>41088 rows × 5 columns</p>\n",
       "</div>"
      ],
      "text/plain": [
       "       Store  DayOfWeek  Open  Promo        Sales\n",
       "0          1          4   1.0      1  8136.916778\n",
       "1          3          4   1.0      1  8136.985438\n",
       "2          7          4   1.0      1  8137.122758\n",
       "3          8          4   1.0      1  8137.157088\n",
       "4          9          4   1.0      1  8137.191418\n",
       "...      ...        ...   ...    ...          ...\n",
       "41083   1111          6   1.0      0  5906.173299\n",
       "41084   1112          6   1.0      0  5906.207629\n",
       "41085   1113          6   1.0      0  5906.241959\n",
       "41086   1114          6   1.0      0  5906.276289\n",
       "41087   1115          6   1.0      0  5906.310619\n",
       "\n",
       "[41088 rows x 5 columns]"
      ]
     },
     "execution_count": 113,
     "metadata": {},
     "output_type": "execute_result"
    }
   ],
   "source": [
    "test['Sales']=best\n",
    "test"
   ]
  },
  {
   "cell_type": "code",
   "execution_count": 115,
   "id": "73971ce6",
   "metadata": {},
   "outputs": [],
   "source": [
    "test.to_csv(\"best_capston_황종민.csv\")"
   ]
  },
  {
   "cell_type": "code",
   "execution_count": null,
   "id": "17790fff",
   "metadata": {},
   "outputs": [],
   "source": []
  }
 ],
 "metadata": {
  "kernelspec": {
   "display_name": "Python 3 (ipykernel)",
   "language": "python",
   "name": "python3"
  },
  "language_info": {
   "codemirror_mode": {
    "name": "ipython",
    "version": 3
   },
   "file_extension": ".py",
   "mimetype": "text/x-python",
   "name": "python",
   "nbconvert_exporter": "python",
   "pygments_lexer": "ipython3",
   "version": "3.9.12"
  }
 },
 "nbformat": 4,
 "nbformat_minor": 5
}
